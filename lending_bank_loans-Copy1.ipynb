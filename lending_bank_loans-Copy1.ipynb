{
 "cells": [
  {
   "cell_type": "code",
   "execution_count": 1,
   "metadata": {},
   "outputs": [
    {
     "name": "stderr",
     "output_type": "stream",
     "text": [
      "C:\\Users\\HP\\Anaconda3\\lib\\site-packages\\IPython\\core\\interactiveshell.py:2785: DtypeWarning: Columns (47) have mixed types. Specify dtype option on import or set low_memory=False.\n",
      "  interactivity=interactivity, compiler=compiler, result=result)\n"
     ]
    }
   ],
   "source": [
    "import pandas as pd\n",
    "import numpy as np\n",
    "data = pd.read_csv(\"loan.csv\")\n",
    "import seaborn as sns\n",
    "from sklearn import preprocessing\n",
    "\n",
    "import matplotlib.pyplot as plt\n",
    "%matplotlib inline\n",
    "plt.rc(\"font\", size=10)\n",
    "sns.set(style=\"white\")\n",
    "sns.set(style=\"whitegrid\", color_codes=True)"
   ]
  },
  {
   "cell_type": "code",
   "execution_count": 2,
   "metadata": {},
   "outputs": [
    {
     "name": "stdout",
     "output_type": "stream",
     "text": [
      "<class 'pandas.core.frame.DataFrame'>\n",
      "RangeIndex: 39717 entries, 0 to 39716\n",
      "Columns: 111 entries, id to total_il_high_credit_limit\n",
      "dtypes: float64(74), int64(13), object(24)\n",
      "memory usage: 33.6+ MB\n"
     ]
    }
   ],
   "source": [
    "data.info()"
   ]
  },
  {
   "cell_type": "code",
   "execution_count": 3,
   "metadata": {},
   "outputs": [
    {
     "name": "stdout",
     "output_type": "stream",
     "text": [
      "Index([], dtype='object')\n"
     ]
    }
   ],
   "source": [
    "numerical1 = data.dtypes[data.dtypes == int].index\n",
    "\n",
    "print(numerical1)"
   ]
  },
  {
   "cell_type": "code",
   "execution_count": 4,
   "metadata": {},
   "outputs": [
    {
     "name": "stdout",
     "output_type": "stream",
     "text": [
      "Index(['funded_amnt_inv', 'installment', 'annual_inc', 'dti',\n",
      "       'mths_since_last_delinq', 'mths_since_last_record', 'out_prncp',\n",
      "       'out_prncp_inv', 'total_pymnt', 'total_pymnt_inv', 'total_rec_prncp',\n",
      "       'total_rec_int', 'total_rec_late_fee', 'recoveries',\n",
      "       'collection_recovery_fee', 'last_pymnt_amnt',\n",
      "       'collections_12_mths_ex_med', 'mths_since_last_major_derog',\n",
      "       'annual_inc_joint', 'dti_joint', 'verification_status_joint',\n",
      "       'tot_coll_amt', 'tot_cur_bal', 'open_acc_6m', 'open_il_6m',\n",
      "       'open_il_12m', 'open_il_24m', 'mths_since_rcnt_il', 'total_bal_il',\n",
      "       'il_util', 'open_rv_12m', 'open_rv_24m', 'max_bal_bc', 'all_util',\n",
      "       'total_rev_hi_lim', 'inq_fi', 'total_cu_tl', 'inq_last_12m',\n",
      "       'acc_open_past_24mths', 'avg_cur_bal', 'bc_open_to_buy', 'bc_util',\n",
      "       'chargeoff_within_12_mths', 'mo_sin_old_il_acct',\n",
      "       'mo_sin_old_rev_tl_op', 'mo_sin_rcnt_rev_tl_op', 'mo_sin_rcnt_tl',\n",
      "       'mort_acc', 'mths_since_recent_bc', 'mths_since_recent_bc_dlq',\n",
      "       'mths_since_recent_inq', 'mths_since_recent_revol_delinq',\n",
      "       'num_accts_ever_120_pd', 'num_actv_bc_tl', 'num_actv_rev_tl',\n",
      "       'num_bc_sats', 'num_bc_tl', 'num_il_tl', 'num_op_rev_tl',\n",
      "       'num_rev_accts', 'num_rev_tl_bal_gt_0', 'num_sats', 'num_tl_120dpd_2m',\n",
      "       'num_tl_30dpd', 'num_tl_90g_dpd_24m', 'num_tl_op_past_12m',\n",
      "       'pct_tl_nvr_dlq', 'percent_bc_gt_75', 'pub_rec_bankruptcies',\n",
      "       'tax_liens', 'tot_hi_cred_lim', 'total_bal_ex_mort', 'total_bc_limit',\n",
      "       'total_il_high_credit_limit'],\n",
      "      dtype='object')\n"
     ]
    }
   ],
   "source": [
    "numerical = data.dtypes[data.dtypes == float].index\n",
    "\n",
    "print(numerical)"
   ]
  },
  {
   "cell_type": "code",
   "execution_count": 4,
   "metadata": {},
   "outputs": [
    {
     "data": {
      "text/html": [
       "<div>\n",
       "<style scoped>\n",
       "    .dataframe tbody tr th:only-of-type {\n",
       "        vertical-align: middle;\n",
       "    }\n",
       "\n",
       "    .dataframe tbody tr th {\n",
       "        vertical-align: top;\n",
       "    }\n",
       "\n",
       "    .dataframe thead th {\n",
       "        text-align: right;\n",
       "    }\n",
       "</style>\n",
       "<table border=\"1\" class=\"dataframe\">\n",
       "  <thead>\n",
       "    <tr style=\"text-align: right;\">\n",
       "      <th></th>\n",
       "      <th>id</th>\n",
       "      <th>member_id</th>\n",
       "      <th>loan_amnt</th>\n",
       "      <th>funded_amnt</th>\n",
       "      <th>funded_amnt_inv</th>\n",
       "      <th>term</th>\n",
       "      <th>int_rate</th>\n",
       "      <th>installment</th>\n",
       "      <th>grade</th>\n",
       "      <th>sub_grade</th>\n",
       "      <th>...</th>\n",
       "      <th>num_tl_90g_dpd_24m</th>\n",
       "      <th>num_tl_op_past_12m</th>\n",
       "      <th>pct_tl_nvr_dlq</th>\n",
       "      <th>percent_bc_gt_75</th>\n",
       "      <th>pub_rec_bankruptcies</th>\n",
       "      <th>tax_liens</th>\n",
       "      <th>tot_hi_cred_lim</th>\n",
       "      <th>total_bal_ex_mort</th>\n",
       "      <th>total_bc_limit</th>\n",
       "      <th>total_il_high_credit_limit</th>\n",
       "    </tr>\n",
       "  </thead>\n",
       "  <tbody>\n",
       "    <tr>\n",
       "      <th>0</th>\n",
       "      <td>1077501</td>\n",
       "      <td>1296599</td>\n",
       "      <td>5000</td>\n",
       "      <td>5000</td>\n",
       "      <td>4975.0</td>\n",
       "      <td>36 months</td>\n",
       "      <td>10.65%</td>\n",
       "      <td>162.87</td>\n",
       "      <td>B</td>\n",
       "      <td>B2</td>\n",
       "      <td>...</td>\n",
       "      <td>NaN</td>\n",
       "      <td>NaN</td>\n",
       "      <td>NaN</td>\n",
       "      <td>NaN</td>\n",
       "      <td>0.0</td>\n",
       "      <td>0.0</td>\n",
       "      <td>NaN</td>\n",
       "      <td>NaN</td>\n",
       "      <td>NaN</td>\n",
       "      <td>NaN</td>\n",
       "    </tr>\n",
       "    <tr>\n",
       "      <th>1</th>\n",
       "      <td>1077430</td>\n",
       "      <td>1314167</td>\n",
       "      <td>2500</td>\n",
       "      <td>2500</td>\n",
       "      <td>2500.0</td>\n",
       "      <td>60 months</td>\n",
       "      <td>15.27%</td>\n",
       "      <td>59.83</td>\n",
       "      <td>C</td>\n",
       "      <td>C4</td>\n",
       "      <td>...</td>\n",
       "      <td>NaN</td>\n",
       "      <td>NaN</td>\n",
       "      <td>NaN</td>\n",
       "      <td>NaN</td>\n",
       "      <td>0.0</td>\n",
       "      <td>0.0</td>\n",
       "      <td>NaN</td>\n",
       "      <td>NaN</td>\n",
       "      <td>NaN</td>\n",
       "      <td>NaN</td>\n",
       "    </tr>\n",
       "    <tr>\n",
       "      <th>2</th>\n",
       "      <td>1077175</td>\n",
       "      <td>1313524</td>\n",
       "      <td>2400</td>\n",
       "      <td>2400</td>\n",
       "      <td>2400.0</td>\n",
       "      <td>36 months</td>\n",
       "      <td>15.96%</td>\n",
       "      <td>84.33</td>\n",
       "      <td>C</td>\n",
       "      <td>C5</td>\n",
       "      <td>...</td>\n",
       "      <td>NaN</td>\n",
       "      <td>NaN</td>\n",
       "      <td>NaN</td>\n",
       "      <td>NaN</td>\n",
       "      <td>0.0</td>\n",
       "      <td>0.0</td>\n",
       "      <td>NaN</td>\n",
       "      <td>NaN</td>\n",
       "      <td>NaN</td>\n",
       "      <td>NaN</td>\n",
       "    </tr>\n",
       "    <tr>\n",
       "      <th>3</th>\n",
       "      <td>1076863</td>\n",
       "      <td>1277178</td>\n",
       "      <td>10000</td>\n",
       "      <td>10000</td>\n",
       "      <td>10000.0</td>\n",
       "      <td>36 months</td>\n",
       "      <td>13.49%</td>\n",
       "      <td>339.31</td>\n",
       "      <td>C</td>\n",
       "      <td>C1</td>\n",
       "      <td>...</td>\n",
       "      <td>NaN</td>\n",
       "      <td>NaN</td>\n",
       "      <td>NaN</td>\n",
       "      <td>NaN</td>\n",
       "      <td>0.0</td>\n",
       "      <td>0.0</td>\n",
       "      <td>NaN</td>\n",
       "      <td>NaN</td>\n",
       "      <td>NaN</td>\n",
       "      <td>NaN</td>\n",
       "    </tr>\n",
       "    <tr>\n",
       "      <th>4</th>\n",
       "      <td>1075358</td>\n",
       "      <td>1311748</td>\n",
       "      <td>3000</td>\n",
       "      <td>3000</td>\n",
       "      <td>3000.0</td>\n",
       "      <td>60 months</td>\n",
       "      <td>12.69%</td>\n",
       "      <td>67.79</td>\n",
       "      <td>B</td>\n",
       "      <td>B5</td>\n",
       "      <td>...</td>\n",
       "      <td>NaN</td>\n",
       "      <td>NaN</td>\n",
       "      <td>NaN</td>\n",
       "      <td>NaN</td>\n",
       "      <td>0.0</td>\n",
       "      <td>0.0</td>\n",
       "      <td>NaN</td>\n",
       "      <td>NaN</td>\n",
       "      <td>NaN</td>\n",
       "      <td>NaN</td>\n",
       "    </tr>\n",
       "  </tbody>\n",
       "</table>\n",
       "<p>5 rows × 111 columns</p>\n",
       "</div>"
      ],
      "text/plain": [
       "        id  member_id  loan_amnt  funded_amnt  funded_amnt_inv        term  \\\n",
       "0  1077501    1296599       5000         5000           4975.0   36 months   \n",
       "1  1077430    1314167       2500         2500           2500.0   60 months   \n",
       "2  1077175    1313524       2400         2400           2400.0   36 months   \n",
       "3  1076863    1277178      10000        10000          10000.0   36 months   \n",
       "4  1075358    1311748       3000         3000           3000.0   60 months   \n",
       "\n",
       "  int_rate  installment grade sub_grade  ... num_tl_90g_dpd_24m  \\\n",
       "0   10.65%       162.87     B        B2  ...                NaN   \n",
       "1   15.27%        59.83     C        C4  ...                NaN   \n",
       "2   15.96%        84.33     C        C5  ...                NaN   \n",
       "3   13.49%       339.31     C        C1  ...                NaN   \n",
       "4   12.69%        67.79     B        B5  ...                NaN   \n",
       "\n",
       "  num_tl_op_past_12m pct_tl_nvr_dlq  percent_bc_gt_75 pub_rec_bankruptcies  \\\n",
       "0                NaN            NaN               NaN                  0.0   \n",
       "1                NaN            NaN               NaN                  0.0   \n",
       "2                NaN            NaN               NaN                  0.0   \n",
       "3                NaN            NaN               NaN                  0.0   \n",
       "4                NaN            NaN               NaN                  0.0   \n",
       "\n",
       "  tax_liens tot_hi_cred_lim total_bal_ex_mort total_bc_limit  \\\n",
       "0       0.0             NaN               NaN            NaN   \n",
       "1       0.0             NaN               NaN            NaN   \n",
       "2       0.0             NaN               NaN            NaN   \n",
       "3       0.0             NaN               NaN            NaN   \n",
       "4       0.0             NaN               NaN            NaN   \n",
       "\n",
       "  total_il_high_credit_limit  \n",
       "0                        NaN  \n",
       "1                        NaN  \n",
       "2                        NaN  \n",
       "3                        NaN  \n",
       "4                        NaN  \n",
       "\n",
       "[5 rows x 111 columns]"
      ]
     },
     "execution_count": 4,
     "metadata": {},
     "output_type": "execute_result"
    }
   ],
   "source": [
    "data.head()"
   ]
  },
  {
   "cell_type": "code",
   "execution_count": 5,
   "metadata": {},
   "outputs": [
    {
     "data": {
      "text/plain": [
       "(39717, 111)"
      ]
     },
     "execution_count": 5,
     "metadata": {},
     "output_type": "execute_result"
    }
   ],
   "source": [
    "data.shape"
   ]
  },
  {
   "cell_type": "code",
   "execution_count": 6,
   "metadata": {},
   "outputs": [
    {
     "name": "stdout",
     "output_type": "stream",
     "text": [
      "Index(['term', 'int_rate', 'grade', 'sub_grade', 'emp_title', 'emp_length',\n",
      "       'home_ownership', 'verification_status', 'issue_d', 'loan_status',\n",
      "       'pymnt_plan', 'url', 'desc', 'purpose', 'title', 'zip_code',\n",
      "       'addr_state', 'earliest_cr_line', 'revol_util', 'initial_list_status',\n",
      "       'last_pymnt_d', 'next_pymnt_d', 'last_credit_pull_d',\n",
      "       'application_type'],\n",
      "      dtype='object')\n"
     ]
    }
   ],
   "source": [
    "categorical = data.dtypes[data.dtypes == \"object\"].index\n",
    "\n",
    "print(categorical)"
   ]
  },
  {
   "cell_type": "code",
   "execution_count": 7,
   "metadata": {},
   "outputs": [
    {
     "data": {
      "text/plain": [
       "<bound method NDFrame.describe of              term int_rate grade sub_grade  \\\n",
       "0       36 months   10.65%     B        B2   \n",
       "1       60 months   15.27%     C        C4   \n",
       "2       36 months   15.96%     C        C5   \n",
       "3       36 months   13.49%     C        C1   \n",
       "4       60 months   12.69%     B        B5   \n",
       "5       36 months    7.90%     A        A4   \n",
       "6       60 months   15.96%     C        C5   \n",
       "7       36 months   18.64%     E        E1   \n",
       "8       60 months   21.28%     F        F2   \n",
       "9       60 months   12.69%     B        B5   \n",
       "10      60 months   14.65%     C        C3   \n",
       "11      36 months   12.69%     B        B5   \n",
       "12      36 months   13.49%     C        C1   \n",
       "13      36 months    9.91%     B        B1   \n",
       "14      36 months   10.65%     B        B2   \n",
       "15      36 months   16.29%     D        D1   \n",
       "16      36 months   15.27%     C        C4   \n",
       "17      36 months    6.03%     A        A1   \n",
       "18      36 months   11.71%     B        B3   \n",
       "19      36 months    6.03%     A        A1   \n",
       "20      60 months   15.27%     C        C4   \n",
       "21      36 months   12.42%     B        B4   \n",
       "22      36 months   11.71%     B        B3   \n",
       "23      36 months   11.71%     B        B3   \n",
       "24      36 months   11.71%     B        B3   \n",
       "25      36 months    9.91%     B        B1   \n",
       "26      36 months   14.27%     C        C2   \n",
       "27      60 months   16.77%     D        D2   \n",
       "28      36 months   11.71%     B        B3   \n",
       "29      36 months   11.71%     B        B3   \n",
       "...           ...      ...   ...       ...   \n",
       "39687   36 months   12.49%     D        D3   \n",
       "39688   36 months   13.43%     E        E1   \n",
       "39689   36 months   11.54%     C        C5   \n",
       "39690   36 months   10.59%     C        C2   \n",
       "39691   36 months   15.96%     F        F4   \n",
       "39692   36 months    9.01%     B        B2   \n",
       "39693   36 months    9.96%     B        B5   \n",
       "39694   36 months    7.43%     A        A2   \n",
       "39695   36 months    7.43%     A        A2   \n",
       "39696   36 months   10.59%     C        C2   \n",
       "39697   36 months   10.28%     C        C1   \n",
       "39698   36 months    9.01%     B        B2   \n",
       "39699   36 months    8.38%     A        A5   \n",
       "39700   36 months    7.75%     A        A3   \n",
       "39701   36 months    8.38%     A        A5   \n",
       "39702   36 months   11.22%     C        C4   \n",
       "39703   36 months   10.28%     C        C1   \n",
       "39704   36 months    8.70%     B        B1   \n",
       "39705   36 months    7.43%     A        A2   \n",
       "39706   36 months    8.07%     A        A4   \n",
       "39707   36 months    9.33%     B        B3   \n",
       "39708   36 months    9.96%     B        B5   \n",
       "39709   36 months   11.22%     C        C4   \n",
       "39710   36 months    7.43%     A        A2   \n",
       "39711   36 months    8.70%     B        B1   \n",
       "39712   36 months    8.07%     A        A4   \n",
       "39713   36 months   10.28%     C        C1   \n",
       "39714   36 months    8.07%     A        A4   \n",
       "39715   36 months    7.43%     A        A2   \n",
       "39716   36 months   13.75%     E        E2   \n",
       "\n",
       "                                            emp_title emp_length  \\\n",
       "0                                                 NaN  10+ years   \n",
       "1                                               Ryder   < 1 year   \n",
       "2                                                 NaN  10+ years   \n",
       "3                                 AIR RESOURCES BOARD  10+ years   \n",
       "4                            University Medical Group     1 year   \n",
       "5                                Veolia Transportaton    3 years   \n",
       "6                           Southern Star Photography    8 years   \n",
       "7                                     MKC Accounting     9 years   \n",
       "8                                                 NaN    4 years   \n",
       "9                                           Starbucks   < 1 year   \n",
       "10                              Southwest Rural metro    5 years   \n",
       "11                                               UCLA  10+ years   \n",
       "12                Va. Dept of Conservation/Recreation   < 1 year   \n",
       "13                                             Target    3 years   \n",
       "14                                              SFMTA    3 years   \n",
       "15                           Internal revenue Service   < 1 year   \n",
       "16                                  Chin's Restaurant    4 years   \n",
       "17                                           Duracell  10+ years   \n",
       "18                              Connection Inspection     1 year   \n",
       "19                       Network Interpreting Service    6 years   \n",
       "20                   Archdiocese of Galveston Houston    3 years   \n",
       "21                                     Osram Sylvania  10+ years   \n",
       "22                                          Value Air  10+ years   \n",
       "23                                   Wells Fargo Bank    5 years   \n",
       "24                                    bmg-educational     1 year   \n",
       "25                     Winfield Pathology Consultants    2 years   \n",
       "26                                        nyc transit    9 years   \n",
       "27                                          Frito Lay    2 years   \n",
       "28            Shands Hospital at the University of Fl  10+ years   \n",
       "29                                     Oakridge homes   < 1 year   \n",
       "...                                               ...        ...   \n",
       "39687                           ISO MERCHANT SERVICES    9 years   \n",
       "39688                            Auto motors of miami    6 years   \n",
       "39689                             Eastland Park Hotel   < 1 year   \n",
       "39690                                  Zensah Company    3 years   \n",
       "39691                             Turner Construction     1 year   \n",
       "39692                                Ping Interactive     1 year   \n",
       "39693                            UNIQUE ID WEB DESIGN   < 1 year   \n",
       "39694                              Oracle Corporation    8 years   \n",
       "39695                                  MetraTech Corp    7 years   \n",
       "39696  Institute for Mind/Body Research and Education    2 years   \n",
       "39697                            RoadNarrows Robotics   < 1 year   \n",
       "39698                                      Viget Labs     1 year   \n",
       "39699                 Northwestern School Corporation    4 years   \n",
       "39700                                             NaN   < 1 year   \n",
       "39701                           Peerless Pump Company    7 years   \n",
       "39702                                   Self-employed     1 year   \n",
       "39703                                          Oracle    2 years   \n",
       "39704                                             NaN   < 1 year   \n",
       "39705                                       MetraTech    8 years   \n",
       "39706                                             NaN   < 1 year   \n",
       "39707                              Stark and Roth Inc    2 years   \n",
       "39708                                 Millenium Group    4 years   \n",
       "39709                                  Self-Employeed   < 1 year   \n",
       "39710                               Rush Univ Med Grp     1 year   \n",
       "39711                             A. F. Wolfers, Inc.    5 years   \n",
       "39712                                 FiSite Research    4 years   \n",
       "39713                      Squarewave Solutions, Ltd.    3 years   \n",
       "39714                                             NaN   < 1 year   \n",
       "39715                                             NaN   < 1 year   \n",
       "39716                                Evergreen Center   < 1 year   \n",
       "\n",
       "      home_ownership verification_status issue_d  loan_status  ...  \\\n",
       "0               RENT            Verified  Dec-11   Fully Paid  ...   \n",
       "1               RENT     Source Verified  Dec-11  Charged Off  ...   \n",
       "2               RENT        Not Verified  Dec-11   Fully Paid  ...   \n",
       "3               RENT     Source Verified  Dec-11   Fully Paid  ...   \n",
       "4               RENT     Source Verified  Dec-11      Current  ...   \n",
       "5               RENT     Source Verified  Dec-11   Fully Paid  ...   \n",
       "6               RENT        Not Verified  Dec-11   Fully Paid  ...   \n",
       "7               RENT     Source Verified  Dec-11   Fully Paid  ...   \n",
       "8                OWN     Source Verified  Dec-11  Charged Off  ...   \n",
       "9               RENT            Verified  Dec-11  Charged Off  ...   \n",
       "10               OWN        Not Verified  Dec-11   Fully Paid  ...   \n",
       "11               OWN     Source Verified  Dec-11   Fully Paid  ...   \n",
       "12              RENT     Source Verified  Dec-11  Charged Off  ...   \n",
       "13              RENT     Source Verified  Dec-11   Fully Paid  ...   \n",
       "14              RENT     Source Verified  Dec-11  Charged Off  ...   \n",
       "15              RENT        Not Verified  Dec-11   Fully Paid  ...   \n",
       "16              RENT        Not Verified  Dec-11   Fully Paid  ...   \n",
       "17          MORTGAGE        Not Verified  Dec-11   Fully Paid  ...   \n",
       "18          MORTGAGE            Verified  Dec-11   Fully Paid  ...   \n",
       "19              RENT        Not Verified  Dec-11   Fully Paid  ...   \n",
       "20              RENT            Verified  Dec-11   Fully Paid  ...   \n",
       "21              RENT            Verified  Dec-11  Charged Off  ...   \n",
       "22               OWN     Source Verified  Dec-11   Fully Paid  ...   \n",
       "23              RENT        Not Verified  Dec-11   Fully Paid  ...   \n",
       "24              RENT        Not Verified  Dec-11  Charged Off  ...   \n",
       "25          MORTGAGE            Verified  Dec-11   Fully Paid  ...   \n",
       "26              RENT        Not Verified  Dec-11  Charged Off  ...   \n",
       "27              RENT        Not Verified  Dec-11  Charged Off  ...   \n",
       "28          MORTGAGE        Not Verified  Dec-11   Fully Paid  ...   \n",
       "29              RENT     Source Verified  Dec-11   Fully Paid  ...   \n",
       "...              ...                 ...     ...          ...  ...   \n",
       "39687            OWN        Not Verified  Aug-07   Fully Paid  ...   \n",
       "39688       MORTGAGE        Not Verified  Aug-07  Charged Off  ...   \n",
       "39689           RENT        Not Verified  Jul-07   Fully Paid  ...   \n",
       "39690           RENT        Not Verified  Jul-07   Fully Paid  ...   \n",
       "39691           RENT        Not Verified  Jul-07   Fully Paid  ...   \n",
       "39692       MORTGAGE        Not Verified  Jul-07   Fully Paid  ...   \n",
       "39693           RENT        Not Verified  Jul-07   Fully Paid  ...   \n",
       "39694       MORTGAGE        Not Verified  Jul-07   Fully Paid  ...   \n",
       "39695       MORTGAGE        Not Verified  Jul-07   Fully Paid  ...   \n",
       "39696           RENT        Not Verified  Jul-07   Fully Paid  ...   \n",
       "39697           RENT        Not Verified  Jul-07   Fully Paid  ...   \n",
       "39698           RENT        Not Verified  Jul-07   Fully Paid  ...   \n",
       "39699           RENT        Not Verified  Jul-07   Fully Paid  ...   \n",
       "39700           RENT        Not Verified  Jul-07   Fully Paid  ...   \n",
       "39701       MORTGAGE        Not Verified  Jul-07   Fully Paid  ...   \n",
       "39702            OWN        Not Verified  Jul-07   Fully Paid  ...   \n",
       "39703       MORTGAGE        Not Verified  Jul-07   Fully Paid  ...   \n",
       "39704       MORTGAGE        Not Verified  Jul-07   Fully Paid  ...   \n",
       "39705       MORTGAGE        Not Verified  Jul-07   Fully Paid  ...   \n",
       "39706       MORTGAGE        Not Verified  Jul-07   Fully Paid  ...   \n",
       "39707       MORTGAGE        Not Verified  Jul-07   Fully Paid  ...   \n",
       "39708       MORTGAGE        Not Verified  Jul-07   Fully Paid  ...   \n",
       "39709            OWN        Not Verified  Jul-07   Fully Paid  ...   \n",
       "39710            OWN        Not Verified  Jul-07   Fully Paid  ...   \n",
       "39711       MORTGAGE        Not Verified  Jul-07   Fully Paid  ...   \n",
       "39712       MORTGAGE        Not Verified  Jul-07   Fully Paid  ...   \n",
       "39713           RENT        Not Verified  Jul-07   Fully Paid  ...   \n",
       "39714       MORTGAGE        Not Verified  Jul-07   Fully Paid  ...   \n",
       "39715       MORTGAGE        Not Verified  Jul-07   Fully Paid  ...   \n",
       "39716            OWN        Not Verified  Jun-07   Fully Paid  ...   \n",
       "\n",
       "                                         title zip_code addr_state  \\\n",
       "0                                     Computer    860xx         AZ   \n",
       "1                                         bike    309xx         GA   \n",
       "2                         real estate business    606xx         IL   \n",
       "3                                     personel    917xx         CA   \n",
       "4                                     Personal    972xx         OR   \n",
       "5        My wedding loan I promise to pay back    852xx         AZ   \n",
       "6                                         Loan    280xx         NC   \n",
       "7                              Car Downpayment    900xx         CA   \n",
       "8         Expand Business & Buy Debt Portfolio    958xx         CA   \n",
       "9                  Building my credit history.    774xx         TX   \n",
       "10                  High intrest Consolidation    853xx         AZ   \n",
       "11                               Consolidation    913xx         CA   \n",
       "12                                     freedom    245xx         VA   \n",
       "13                               citicard fund    606xx         IL   \n",
       "14                                  Other Loan    951xx         CA   \n",
       "15                     Debt Consolidation Loan    641xx         MO   \n",
       "16                                        Home    921xx         CA   \n",
       "17                                     Holiday    067xx         CT   \n",
       "18                                     Medical    890xx         UT   \n",
       "19         lowerratemeanseasiertogetoutofdebt!    921xx         CA   \n",
       "20                   Freedom From Credit Cards    770xx         TX   \n",
       "21                                Debt Cleanup    335xx         FL   \n",
       "22                            Credit Card Loan    799xx         TX   \n",
       "23                          Debt Consolidation    917xx         CA   \n",
       "24                                        cash    900xx         CA   \n",
       "25                   No more credit card debt!    605xx         IL   \n",
       "26                               consolidation    103xx         NY   \n",
       "27                                       Other    150xx         PA   \n",
       "28                          Debt Consolidation    326xx         FL   \n",
       "29                  Credit card repayment loan    564xx         MN   \n",
       "...                                        ...      ...        ...   \n",
       "39687                 refinancing credit cards    334xx         FL   \n",
       "39688                              refinancing    331xx         FL   \n",
       "39689                   Bank of America- Blah!    041xx         ME   \n",
       "39690               Invest in Zensah Inventory    330xx         FL   \n",
       "39691                            Consolidation    021xx         MA   \n",
       "39692                             ..and a Pony    100xx         NY   \n",
       "39693  Starving student needs means of living.    339xx         FL   \n",
       "39694                              New kitchen    303xx         GA   \n",
       "39695                     Mortgage Pre-Payment    017xx         MA   \n",
       "39696           Recycling Plant in East Africa    113xx         NY   \n",
       "39697       Web Design Business Expansion Loan    805xx         CO   \n",
       "39698                             Credit Cards    222xx         VA   \n",
       "39699                                   Europe    469xx         IN   \n",
       "39700               Help with college expenses    306xx         GA   \n",
       "39701                Refinance for better rate    461xx         IN   \n",
       "39702                     Stupid credit cards!    314xx         GA   \n",
       "39703        Roofdeck for my new NYC apartment    100xx         NY   \n",
       "39704                        Home Based Bakery    017xx         MA   \n",
       "39705                                  My Loan    017xx         MA   \n",
       "39706                     remodelin my kitchen    530xx         WI   \n",
       "39707                     home improvment loan    530xx         WI   \n",
       "39708                                 Tito5000    333xx         FL   \n",
       "39709                   P's Family Credit Loan    537xx         WI   \n",
       "39710                      My Credit Card Loan    537xx         WI   \n",
       "39711                  Reduce Credit Card Debt    804xx         CO   \n",
       "39712                         Home Improvement    802xx         CO   \n",
       "39713                Retiring credit card debt    274xx         NC   \n",
       "39714                   MBA Loan Consolidation    017xx         MA   \n",
       "39715                                 JAL Loan    208xx         MD   \n",
       "39716                       Consolidation Loan    027xx         MA   \n",
       "\n",
       "      earliest_cr_line revol_util initial_list_status last_pymnt_d  \\\n",
       "0               Jan-85     83.70%                   f       Jan-15   \n",
       "1               Apr-99      9.40%                   f       Apr-13   \n",
       "2               Nov-01     98.50%                   f       Jun-14   \n",
       "3               Feb-96        21%                   f       Jan-15   \n",
       "4               Jan-96     53.90%                   f       May-16   \n",
       "5               Nov-04     28.30%                   f       Jan-15   \n",
       "6               Jul-05     85.60%                   f       May-16   \n",
       "7               Jan-07     87.50%                   f       Jan-15   \n",
       "8               Apr-04     32.60%                   f       Apr-12   \n",
       "9               Sep-04     36.50%                   f       Nov-12   \n",
       "10              Jan-98     20.60%                   f       Jun-13   \n",
       "11              Oct-89     67.10%                   f       Sep-13   \n",
       "12              Apr-04     91.70%                   f       Jul-12   \n",
       "13              Jul-03     43.10%                   f       Jan-15   \n",
       "14              May-91     55.50%                   f       Oct-13   \n",
       "15              Sep-07     81.50%                   f       Jan-15   \n",
       "16              Oct-98     70.20%                   f       Jan-15   \n",
       "17              Aug-93        16%                   f       May-13   \n",
       "18              Oct-03     37.73%                   f       Feb-15   \n",
       "19              Jan-01     23.10%                   f       Jul-12   \n",
       "20              Nov-97     85.60%                   f       Aug-15   \n",
       "21              Feb-83     90.30%                   f       Sep-13   \n",
       "22              Jul-85     82.40%                   f       Jan-15   \n",
       "23              Apr-03     91.80%                   f       Oct-13   \n",
       "24              Jun-01     29.70%                   f       Oct-12   \n",
       "25              Feb-02     93.90%                   f       Sep-12   \n",
       "26              Oct-03     57.60%                   f          NaN   \n",
       "27              Oct-03     59.50%                   f       Dec-12   \n",
       "28              Aug-84     37.70%                   f       Apr-13   \n",
       "29              Nov-06     59.10%                   f       Dec-14   \n",
       "...                ...        ...                 ...          ...   \n",
       "39687           Apr-95     93.40%                   f       Jul-10   \n",
       "39688           Jan-96     74.10%                   f       Feb-10   \n",
       "39689           May-04     75.80%                   f       Jul-10   \n",
       "39690           Feb-69      8.10%                   f       Apr-08   \n",
       "39691           Aug-03     92.30%                   f       Jul-10   \n",
       "39692           Apr-03     36.60%                   f       Jul-10   \n",
       "39693           Dec-02     41.10%                   f       Mar-09   \n",
       "39694           Dec-87     19.50%                   f       Jan-08   \n",
       "39695           Jul-00      6.80%                   f       Jul-10   \n",
       "39696           Jan-00     23.30%                   f       Jun-10   \n",
       "39697           Sep-03     54.40%                   f       Jul-10   \n",
       "39698           Jan-99     37.60%                   f       Jul-10   \n",
       "39699           Jun-95     23.90%                   f       Apr-10   \n",
       "39700           Mar-89     16.50%                   f       Jul-10   \n",
       "39701           Feb-92     14.40%                   f       Jul-10   \n",
       "39702           Apr-93     47.10%                   f       Jul-10   \n",
       "39703           Feb-97         0%                   f       Jul-10   \n",
       "39704           Sep-00      7.80%                   f       Jul-10   \n",
       "39705           Oct-97     16.90%                   f       Jul-10   \n",
       "39706           Jun-96     26.30%                   f       Jul-10   \n",
       "39707           Feb-95     39.20%                   f       Jul-10   \n",
       "39708           Aug-95     48.60%                   f       Jul-10   \n",
       "39709           Jul-96     16.10%                   f       Jul-10   \n",
       "39710           Oct-97      0.60%                   f       Jul-10   \n",
       "39711           May-94        23%                   f       Jul-10   \n",
       "39712           Nov-90     13.10%                   f       Jul-10   \n",
       "39713           Dec-86     26.90%                   f       Jul-10   \n",
       "39714           Oct-98     19.40%                   f       Apr-08   \n",
       "39715           Nov-88      0.70%                   f       Jan-08   \n",
       "39716           Oct-03     51.50%                   f       Jun-10   \n",
       "\n",
       "      next_pymnt_d last_credit_pull_d application_type  \n",
       "0              NaN             May-16       INDIVIDUAL  \n",
       "1              NaN             Sep-13       INDIVIDUAL  \n",
       "2              NaN             May-16       INDIVIDUAL  \n",
       "3              NaN             Apr-16       INDIVIDUAL  \n",
       "4           Jun-16             May-16       INDIVIDUAL  \n",
       "5              NaN             Jan-16       INDIVIDUAL  \n",
       "6              NaN             May-16       INDIVIDUAL  \n",
       "7              NaN             Dec-14       INDIVIDUAL  \n",
       "8              NaN             Aug-12       INDIVIDUAL  \n",
       "9              NaN             Mar-13       INDIVIDUAL  \n",
       "10             NaN             Dec-15       INDIVIDUAL  \n",
       "11             NaN             Aug-13       INDIVIDUAL  \n",
       "12             NaN             Nov-12       INDIVIDUAL  \n",
       "13             NaN             May-16       INDIVIDUAL  \n",
       "14             NaN             Mar-14       INDIVIDUAL  \n",
       "15             NaN             May-16       INDIVIDUAL  \n",
       "16             NaN             Apr-15       INDIVIDUAL  \n",
       "17             NaN             May-14       INDIVIDUAL  \n",
       "18             NaN             Jul-15       INDIVIDUAL  \n",
       "19             NaN             Feb-16       INDIVIDUAL  \n",
       "20             NaN             Mar-16       INDIVIDUAL  \n",
       "21             NaN             May-16       INDIVIDUAL  \n",
       "22             NaN             May-16       INDIVIDUAL  \n",
       "23             NaN             Mar-14       INDIVIDUAL  \n",
       "24             NaN             Mar-13       INDIVIDUAL  \n",
       "25             NaN             Sep-12       INDIVIDUAL  \n",
       "26             NaN             May-16       INDIVIDUAL  \n",
       "27             NaN             May-13       INDIVIDUAL  \n",
       "28             NaN             May-16       INDIVIDUAL  \n",
       "29             NaN             Jan-15       INDIVIDUAL  \n",
       "...            ...                ...              ...  \n",
       "39687          NaN             Jul-10       INDIVIDUAL  \n",
       "39688          NaN             May-16       INDIVIDUAL  \n",
       "39689          NaN             Jul-10       INDIVIDUAL  \n",
       "39690          NaN             Jul-07       INDIVIDUAL  \n",
       "39691          NaN             Jul-10       INDIVIDUAL  \n",
       "39692          NaN             Jul-10       INDIVIDUAL  \n",
       "39693          NaN             May-16       INDIVIDUAL  \n",
       "39694          NaN             Jun-07       INDIVIDUAL  \n",
       "39695          NaN             Jun-07       INDIVIDUAL  \n",
       "39696          NaN             Jun-10       INDIVIDUAL  \n",
       "39697          NaN             Oct-10       INDIVIDUAL  \n",
       "39698          NaN             Jul-10       INDIVIDUAL  \n",
       "39699          NaN             Jun-07       INDIVIDUAL  \n",
       "39700          NaN             Dec-13       INDIVIDUAL  \n",
       "39701          NaN             Jul-10       INDIVIDUAL  \n",
       "39702          NaN             Oct-12       INDIVIDUAL  \n",
       "39703          NaN             Feb-13       INDIVIDUAL  \n",
       "39704          NaN             Jul-10       INDIVIDUAL  \n",
       "39705          NaN             Jun-10       INDIVIDUAL  \n",
       "39706          NaN             Jun-07       INDIVIDUAL  \n",
       "39707          NaN             Jun-07       INDIVIDUAL  \n",
       "39708          NaN             Jun-10       INDIVIDUAL  \n",
       "39709          NaN             Jun-07       INDIVIDUAL  \n",
       "39710          NaN             Jun-07       INDIVIDUAL  \n",
       "39711          NaN             Nov-14       INDIVIDUAL  \n",
       "39712          NaN             Jun-10       INDIVIDUAL  \n",
       "39713          NaN             Jul-10       INDIVIDUAL  \n",
       "39714          NaN             Jun-07       INDIVIDUAL  \n",
       "39715          NaN             Jun-07       INDIVIDUAL  \n",
       "39716          NaN             Jun-10       INDIVIDUAL  \n",
       "\n",
       "[39717 rows x 24 columns]>"
      ]
     },
     "execution_count": 7,
     "metadata": {},
     "output_type": "execute_result"
    }
   ],
   "source": [
    "data[categorical].describe"
   ]
  },
  {
   "cell_type": "code",
   "execution_count": 8,
   "metadata": {},
   "outputs": [
    {
     "data": {
      "text/plain": [
       "id                                    0\n",
       "member_id                             0\n",
       "loan_amnt                             0\n",
       "funded_amnt                           0\n",
       "funded_amnt_inv                       0\n",
       "term                                  0\n",
       "int_rate                              0\n",
       "installment                           0\n",
       "grade                                 0\n",
       "sub_grade                             0\n",
       "emp_title                          2459\n",
       "emp_length                         1075\n",
       "home_ownership                        0\n",
       "annual_inc                            0\n",
       "verification_status                   0\n",
       "issue_d                               0\n",
       "loan_status                           0\n",
       "pymnt_plan                            0\n",
       "url                                   0\n",
       "desc                              12940\n",
       "purpose                               0\n",
       "title                                11\n",
       "zip_code                              0\n",
       "addr_state                            0\n",
       "dti                                   0\n",
       "delinq_2yrs                           0\n",
       "earliest_cr_line                      0\n",
       "inq_last_6mths                        0\n",
       "mths_since_last_delinq            25682\n",
       "mths_since_last_record            36931\n",
       "                                  ...  \n",
       "mo_sin_old_rev_tl_op              39717\n",
       "mo_sin_rcnt_rev_tl_op             39717\n",
       "mo_sin_rcnt_tl                    39717\n",
       "mort_acc                          39717\n",
       "mths_since_recent_bc              39717\n",
       "mths_since_recent_bc_dlq          39717\n",
       "mths_since_recent_inq             39717\n",
       "mths_since_recent_revol_delinq    39717\n",
       "num_accts_ever_120_pd             39717\n",
       "num_actv_bc_tl                    39717\n",
       "num_actv_rev_tl                   39717\n",
       "num_bc_sats                       39717\n",
       "num_bc_tl                         39717\n",
       "num_il_tl                         39717\n",
       "num_op_rev_tl                     39717\n",
       "num_rev_accts                     39717\n",
       "num_rev_tl_bal_gt_0               39717\n",
       "num_sats                          39717\n",
       "num_tl_120dpd_2m                  39717\n",
       "num_tl_30dpd                      39717\n",
       "num_tl_90g_dpd_24m                39717\n",
       "num_tl_op_past_12m                39717\n",
       "pct_tl_nvr_dlq                    39717\n",
       "percent_bc_gt_75                  39717\n",
       "pub_rec_bankruptcies                697\n",
       "tax_liens                            39\n",
       "tot_hi_cred_lim                   39717\n",
       "total_bal_ex_mort                 39717\n",
       "total_bc_limit                    39717\n",
       "total_il_high_credit_limit        39717\n",
       "Length: 111, dtype: int64"
      ]
     },
     "execution_count": 8,
     "metadata": {},
     "output_type": "execute_result"
    }
   ],
   "source": [
    "data.apply(lambda x: sum(x.isnull()))"
   ]
  },
  {
   "cell_type": "code",
   "execution_count": 9,
   "metadata": {},
   "outputs": [],
   "source": [
    "data = data.drop(data.columns[data.apply(lambda col: col.isnull().sum()/len(data) > 0.5)], axis=1)"
   ]
  },
  {
   "cell_type": "code",
   "execution_count": 10,
   "metadata": {},
   "outputs": [
    {
     "data": {
      "text/plain": [
       "(39717, 54)"
      ]
     },
     "execution_count": 10,
     "metadata": {},
     "output_type": "execute_result"
    }
   ],
   "source": [
    "data.shape"
   ]
  },
  {
   "cell_type": "code",
   "execution_count": 11,
   "metadata": {},
   "outputs": [
    {
     "data": {
      "text/plain": [
       "id                                0\n",
       "member_id                         0\n",
       "loan_amnt                         0\n",
       "funded_amnt                       0\n",
       "funded_amnt_inv                   0\n",
       "term                              0\n",
       "int_rate                          0\n",
       "installment                       0\n",
       "grade                             0\n",
       "sub_grade                         0\n",
       "emp_title                      2459\n",
       "emp_length                     1075\n",
       "home_ownership                    0\n",
       "annual_inc                        0\n",
       "verification_status               0\n",
       "issue_d                           0\n",
       "loan_status                       0\n",
       "pymnt_plan                        0\n",
       "url                               0\n",
       "desc                          12940\n",
       "purpose                           0\n",
       "title                            11\n",
       "zip_code                          0\n",
       "addr_state                        0\n",
       "dti                               0\n",
       "delinq_2yrs                       0\n",
       "earliest_cr_line                  0\n",
       "inq_last_6mths                    0\n",
       "open_acc                          0\n",
       "pub_rec                           0\n",
       "revol_bal                         0\n",
       "revol_util                       50\n",
       "total_acc                         0\n",
       "initial_list_status               0\n",
       "out_prncp                         0\n",
       "out_prncp_inv                     0\n",
       "total_pymnt                       0\n",
       "total_pymnt_inv                   0\n",
       "total_rec_prncp                   0\n",
       "total_rec_int                     0\n",
       "total_rec_late_fee                0\n",
       "recoveries                        0\n",
       "collection_recovery_fee           0\n",
       "last_pymnt_d                     71\n",
       "last_pymnt_amnt                   0\n",
       "last_credit_pull_d                2\n",
       "collections_12_mths_ex_med       56\n",
       "policy_code                       0\n",
       "application_type                  0\n",
       "acc_now_delinq                    0\n",
       "chargeoff_within_12_mths         56\n",
       "delinq_amnt                       0\n",
       "pub_rec_bankruptcies            697\n",
       "tax_liens                        39\n",
       "dtype: int64"
      ]
     },
     "execution_count": 11,
     "metadata": {},
     "output_type": "execute_result"
    }
   ],
   "source": [
    "data.apply(lambda x: sum(x.isnull()))"
   ]
  },
  {
   "cell_type": "code",
   "execution_count": 12,
   "metadata": {},
   "outputs": [],
   "source": [
    "data = data.dropna(axis=0,subset =['id'])\n",
    "data = data.dropna(axis=0,subset =['member_id'])\n",
    "data = data.dropna(axis=0,subset =['desc'])\n",
    "data = data.dropna(axis=0,subset =['emp_title'])\n",
    "\n",
    "\n"
   ]
  },
  {
   "cell_type": "code",
   "execution_count": 13,
   "metadata": {},
   "outputs": [
    {
     "data": {
      "text/plain": [
       "(25173, 54)"
      ]
     },
     "execution_count": 13,
     "metadata": {},
     "output_type": "execute_result"
    }
   ],
   "source": [
    "data.shape"
   ]
  },
  {
   "cell_type": "code",
   "execution_count": 14,
   "metadata": {},
   "outputs": [
    {
     "data": {
      "text/plain": [
       "id                              0\n",
       "member_id                       0\n",
       "loan_amnt                       0\n",
       "funded_amnt                     0\n",
       "funded_amnt_inv                 0\n",
       "term                            0\n",
       "int_rate                        0\n",
       "installment                     0\n",
       "grade                           0\n",
       "sub_grade                       0\n",
       "emp_title                       0\n",
       "emp_length                     38\n",
       "home_ownership                  0\n",
       "annual_inc                      0\n",
       "verification_status             0\n",
       "issue_d                         0\n",
       "loan_status                     0\n",
       "pymnt_plan                      0\n",
       "url                             0\n",
       "desc                            0\n",
       "purpose                         0\n",
       "title                           5\n",
       "zip_code                        0\n",
       "addr_state                      0\n",
       "dti                             0\n",
       "delinq_2yrs                     0\n",
       "earliest_cr_line                0\n",
       "inq_last_6mths                  0\n",
       "open_acc                        0\n",
       "pub_rec                         0\n",
       "revol_bal                       0\n",
       "revol_util                     33\n",
       "total_acc                       0\n",
       "initial_list_status             0\n",
       "out_prncp                       0\n",
       "out_prncp_inv                   0\n",
       "total_pymnt                     0\n",
       "total_pymnt_inv                 0\n",
       "total_rec_prncp                 0\n",
       "total_rec_int                   0\n",
       "total_rec_late_fee              0\n",
       "recoveries                      0\n",
       "collection_recovery_fee         0\n",
       "last_pymnt_d                   41\n",
       "last_pymnt_amnt                 0\n",
       "last_credit_pull_d              0\n",
       "collections_12_mths_ex_med     44\n",
       "policy_code                     0\n",
       "application_type                0\n",
       "acc_now_delinq                  0\n",
       "chargeoff_within_12_mths       44\n",
       "delinq_amnt                     0\n",
       "pub_rec_bankruptcies          651\n",
       "tax_liens                      29\n",
       "dtype: int64"
      ]
     },
     "execution_count": 14,
     "metadata": {},
     "output_type": "execute_result"
    }
   ],
   "source": [
    "data.apply(lambda x: sum(x.isnull()))"
   ]
  },
  {
   "cell_type": "code",
   "execution_count": 15,
   "metadata": {},
   "outputs": [
    {
     "data": {
      "text/html": [
       "<div>\n",
       "<style scoped>\n",
       "    .dataframe tbody tr th:only-of-type {\n",
       "        vertical-align: middle;\n",
       "    }\n",
       "\n",
       "    .dataframe tbody tr th {\n",
       "        vertical-align: top;\n",
       "    }\n",
       "\n",
       "    .dataframe thead th {\n",
       "        text-align: right;\n",
       "    }\n",
       "</style>\n",
       "<table border=\"1\" class=\"dataframe\">\n",
       "  <thead>\n",
       "    <tr style=\"text-align: right;\">\n",
       "      <th></th>\n",
       "      <th>id</th>\n",
       "      <th>member_id</th>\n",
       "      <th>loan_amnt</th>\n",
       "      <th>funded_amnt</th>\n",
       "      <th>funded_amnt_inv</th>\n",
       "      <th>term</th>\n",
       "      <th>int_rate</th>\n",
       "      <th>installment</th>\n",
       "      <th>grade</th>\n",
       "      <th>sub_grade</th>\n",
       "      <th>...</th>\n",
       "      <th>last_pymnt_amnt</th>\n",
       "      <th>last_credit_pull_d</th>\n",
       "      <th>collections_12_mths_ex_med</th>\n",
       "      <th>policy_code</th>\n",
       "      <th>application_type</th>\n",
       "      <th>acc_now_delinq</th>\n",
       "      <th>chargeoff_within_12_mths</th>\n",
       "      <th>delinq_amnt</th>\n",
       "      <th>pub_rec_bankruptcies</th>\n",
       "      <th>tax_liens</th>\n",
       "    </tr>\n",
       "  </thead>\n",
       "  <tbody>\n",
       "    <tr>\n",
       "      <th>1</th>\n",
       "      <td>1077430</td>\n",
       "      <td>1314167</td>\n",
       "      <td>2500</td>\n",
       "      <td>2500</td>\n",
       "      <td>2500.0</td>\n",
       "      <td>60 months</td>\n",
       "      <td>15.27%</td>\n",
       "      <td>59.83</td>\n",
       "      <td>C</td>\n",
       "      <td>C4</td>\n",
       "      <td>...</td>\n",
       "      <td>119.66</td>\n",
       "      <td>Sep-13</td>\n",
       "      <td>0.0</td>\n",
       "      <td>1</td>\n",
       "      <td>INDIVIDUAL</td>\n",
       "      <td>0</td>\n",
       "      <td>0.0</td>\n",
       "      <td>0</td>\n",
       "      <td>0.0</td>\n",
       "      <td>0.0</td>\n",
       "    </tr>\n",
       "    <tr>\n",
       "      <th>3</th>\n",
       "      <td>1076863</td>\n",
       "      <td>1277178</td>\n",
       "      <td>10000</td>\n",
       "      <td>10000</td>\n",
       "      <td>10000.0</td>\n",
       "      <td>36 months</td>\n",
       "      <td>13.49%</td>\n",
       "      <td>339.31</td>\n",
       "      <td>C</td>\n",
       "      <td>C1</td>\n",
       "      <td>...</td>\n",
       "      <td>357.48</td>\n",
       "      <td>Apr-16</td>\n",
       "      <td>0.0</td>\n",
       "      <td>1</td>\n",
       "      <td>INDIVIDUAL</td>\n",
       "      <td>0</td>\n",
       "      <td>0.0</td>\n",
       "      <td>0</td>\n",
       "      <td>0.0</td>\n",
       "      <td>0.0</td>\n",
       "    </tr>\n",
       "    <tr>\n",
       "      <th>4</th>\n",
       "      <td>1075358</td>\n",
       "      <td>1311748</td>\n",
       "      <td>3000</td>\n",
       "      <td>3000</td>\n",
       "      <td>3000.0</td>\n",
       "      <td>60 months</td>\n",
       "      <td>12.69%</td>\n",
       "      <td>67.79</td>\n",
       "      <td>B</td>\n",
       "      <td>B5</td>\n",
       "      <td>...</td>\n",
       "      <td>67.79</td>\n",
       "      <td>May-16</td>\n",
       "      <td>0.0</td>\n",
       "      <td>1</td>\n",
       "      <td>INDIVIDUAL</td>\n",
       "      <td>0</td>\n",
       "      <td>0.0</td>\n",
       "      <td>0</td>\n",
       "      <td>0.0</td>\n",
       "      <td>0.0</td>\n",
       "    </tr>\n",
       "    <tr>\n",
       "      <th>6</th>\n",
       "      <td>1069639</td>\n",
       "      <td>1304742</td>\n",
       "      <td>7000</td>\n",
       "      <td>7000</td>\n",
       "      <td>7000.0</td>\n",
       "      <td>60 months</td>\n",
       "      <td>15.96%</td>\n",
       "      <td>170.08</td>\n",
       "      <td>C</td>\n",
       "      <td>C5</td>\n",
       "      <td>...</td>\n",
       "      <td>1313.76</td>\n",
       "      <td>May-16</td>\n",
       "      <td>0.0</td>\n",
       "      <td>1</td>\n",
       "      <td>INDIVIDUAL</td>\n",
       "      <td>0</td>\n",
       "      <td>0.0</td>\n",
       "      <td>0</td>\n",
       "      <td>0.0</td>\n",
       "      <td>0.0</td>\n",
       "    </tr>\n",
       "    <tr>\n",
       "      <th>7</th>\n",
       "      <td>1072053</td>\n",
       "      <td>1288686</td>\n",
       "      <td>3000</td>\n",
       "      <td>3000</td>\n",
       "      <td>3000.0</td>\n",
       "      <td>36 months</td>\n",
       "      <td>18.64%</td>\n",
       "      <td>109.43</td>\n",
       "      <td>E</td>\n",
       "      <td>E1</td>\n",
       "      <td>...</td>\n",
       "      <td>111.34</td>\n",
       "      <td>Dec-14</td>\n",
       "      <td>0.0</td>\n",
       "      <td>1</td>\n",
       "      <td>INDIVIDUAL</td>\n",
       "      <td>0</td>\n",
       "      <td>0.0</td>\n",
       "      <td>0</td>\n",
       "      <td>0.0</td>\n",
       "      <td>0.0</td>\n",
       "    </tr>\n",
       "  </tbody>\n",
       "</table>\n",
       "<p>5 rows × 54 columns</p>\n",
       "</div>"
      ],
      "text/plain": [
       "        id  member_id  loan_amnt  funded_amnt  funded_amnt_inv        term  \\\n",
       "1  1077430    1314167       2500         2500           2500.0   60 months   \n",
       "3  1076863    1277178      10000        10000          10000.0   36 months   \n",
       "4  1075358    1311748       3000         3000           3000.0   60 months   \n",
       "6  1069639    1304742       7000         7000           7000.0   60 months   \n",
       "7  1072053    1288686       3000         3000           3000.0   36 months   \n",
       "\n",
       "  int_rate  installment grade sub_grade  ... last_pymnt_amnt  \\\n",
       "1   15.27%        59.83     C        C4  ...          119.66   \n",
       "3   13.49%       339.31     C        C1  ...          357.48   \n",
       "4   12.69%        67.79     B        B5  ...           67.79   \n",
       "6   15.96%       170.08     C        C5  ...         1313.76   \n",
       "7   18.64%       109.43     E        E1  ...          111.34   \n",
       "\n",
       "  last_credit_pull_d collections_12_mths_ex_med  policy_code application_type  \\\n",
       "1             Sep-13                        0.0            1       INDIVIDUAL   \n",
       "3             Apr-16                        0.0            1       INDIVIDUAL   \n",
       "4             May-16                        0.0            1       INDIVIDUAL   \n",
       "6             May-16                        0.0            1       INDIVIDUAL   \n",
       "7             Dec-14                        0.0            1       INDIVIDUAL   \n",
       "\n",
       "  acc_now_delinq chargeoff_within_12_mths delinq_amnt pub_rec_bankruptcies  \\\n",
       "1              0                      0.0           0                  0.0   \n",
       "3              0                      0.0           0                  0.0   \n",
       "4              0                      0.0           0                  0.0   \n",
       "6              0                      0.0           0                  0.0   \n",
       "7              0                      0.0           0                  0.0   \n",
       "\n",
       "  tax_liens  \n",
       "1       0.0  \n",
       "3       0.0  \n",
       "4       0.0  \n",
       "6       0.0  \n",
       "7       0.0  \n",
       "\n",
       "[5 rows x 54 columns]"
      ]
     },
     "execution_count": 15,
     "metadata": {},
     "output_type": "execute_result"
    }
   ],
   "source": [
    "data.head()"
   ]
  },
  {
   "cell_type": "code",
   "execution_count": 16,
   "metadata": {},
   "outputs": [
    {
     "data": {
      "text/plain": [
       "(25173, 54)"
      ]
     },
     "execution_count": 16,
     "metadata": {},
     "output_type": "execute_result"
    }
   ],
   "source": [
    "data.shape"
   ]
  },
  {
   "cell_type": "code",
   "execution_count": 17,
   "metadata": {},
   "outputs": [
    {
     "name": "stdout",
     "output_type": "stream",
     "text": [
      "<class 'pandas.core.frame.DataFrame'>\n",
      "Int64Index: 25173 entries, 1 to 39716\n",
      "Data columns (total 54 columns):\n",
      "id                            25173 non-null int64\n",
      "member_id                     25173 non-null int64\n",
      "loan_amnt                     25173 non-null int64\n",
      "funded_amnt                   25173 non-null int64\n",
      "funded_amnt_inv               25173 non-null float64\n",
      "term                          25173 non-null object\n",
      "int_rate                      25173 non-null object\n",
      "installment                   25173 non-null float64\n",
      "grade                         25173 non-null object\n",
      "sub_grade                     25173 non-null object\n",
      "emp_title                     25173 non-null object\n",
      "emp_length                    25135 non-null object\n",
      "home_ownership                25173 non-null object\n",
      "annual_inc                    25173 non-null float64\n",
      "verification_status           25173 non-null object\n",
      "issue_d                       25173 non-null object\n",
      "loan_status                   25173 non-null object\n",
      "pymnt_plan                    25173 non-null object\n",
      "url                           25173 non-null object\n",
      "desc                          25173 non-null object\n",
      "purpose                       25173 non-null object\n",
      "title                         25168 non-null object\n",
      "zip_code                      25173 non-null object\n",
      "addr_state                    25173 non-null object\n",
      "dti                           25173 non-null float64\n",
      "delinq_2yrs                   25173 non-null int64\n",
      "earliest_cr_line              25173 non-null object\n",
      "inq_last_6mths                25173 non-null int64\n",
      "open_acc                      25173 non-null int64\n",
      "pub_rec                       25173 non-null int64\n",
      "revol_bal                     25173 non-null int64\n",
      "revol_util                    25140 non-null object\n",
      "total_acc                     25173 non-null int64\n",
      "initial_list_status           25173 non-null object\n",
      "out_prncp                     25173 non-null float64\n",
      "out_prncp_inv                 25173 non-null float64\n",
      "total_pymnt                   25173 non-null float64\n",
      "total_pymnt_inv               25173 non-null float64\n",
      "total_rec_prncp               25173 non-null float64\n",
      "total_rec_int                 25173 non-null float64\n",
      "total_rec_late_fee            25173 non-null float64\n",
      "recoveries                    25173 non-null float64\n",
      "collection_recovery_fee       25173 non-null float64\n",
      "last_pymnt_d                  25132 non-null object\n",
      "last_pymnt_amnt               25173 non-null float64\n",
      "last_credit_pull_d            25173 non-null object\n",
      "collections_12_mths_ex_med    25129 non-null float64\n",
      "policy_code                   25173 non-null int64\n",
      "application_type              25173 non-null object\n",
      "acc_now_delinq                25173 non-null int64\n",
      "chargeoff_within_12_mths      25129 non-null float64\n",
      "delinq_amnt                   25173 non-null int64\n",
      "pub_rec_bankruptcies          24522 non-null float64\n",
      "tax_liens                     25144 non-null float64\n",
      "dtypes: float64(18), int64(13), object(23)\n",
      "memory usage: 10.6+ MB\n"
     ]
    }
   ],
   "source": [
    "data.info()"
   ]
  },
  {
   "cell_type": "code",
   "execution_count": null,
   "metadata": {},
   "outputs": [],
   "source": []
  },
  {
   "cell_type": "code",
   "execution_count": null,
   "metadata": {},
   "outputs": [],
   "source": []
  },
  {
   "cell_type": "code",
   "execution_count": 18,
   "metadata": {},
   "outputs": [
    {
     "data": {
      "text/plain": [
       "<matplotlib.axes._subplots.AxesSubplot at 0x1fdee046588>"
      ]
     },
     "execution_count": 18,
     "metadata": {},
     "output_type": "execute_result"
    },
    {
     "data": {
      "image/png": "[encoded data removed]",
      "text/plain": [
       "<Figure size 648x648 with 1 Axes>"
      ]
     },
     "metadata": {
      "needs_background": "light"
     },
     "output_type": "display_data"
    }
   ],
   "source": [
    "data[\"funded_amnt\"].plot(kind=\"box\", figsize=(9,9))\n",
    "data[\"installment\"].plot(kind=\"hist\", figsize=(9,9))\n"
   ]
  },
  {
   "cell_type": "code",
   "execution_count": 19,
   "metadata": {},
   "outputs": [
    {
     "data": {
      "text/plain": [
       "<matplotlib.axes._subplots.AxesSubplot at 0x1fded878a58>"
      ]
     },
     "execution_count": 19,
     "metadata": {},
     "output_type": "execute_result"
    },
    {
     "data": {
      "image/png": "[encoded data removed]",
      "text/plain": [
       "<Figure size 648x648 with 1 Axes>"
      ]
     },
     "metadata": {
      "needs_background": "light"
     },
     "output_type": "display_data"
    }
   ],
   "source": [
    "data[\"installment\"].plot(kind=\"hist\", figsize=(9,9))"
   ]
  },
  {
   "cell_type": "code",
   "execution_count": 20,
   "metadata": {},
   "outputs": [
    {
     "data": {
      "text/plain": [
       "0    23857\n",
       "1     1275\n",
       "2       35\n",
       "3        6\n",
       "Name: pub_rec, dtype: int64"
      ]
     },
     "execution_count": 20,
     "metadata": {},
     "output_type": "execute_result"
    }
   ],
   "source": [
    "data['pub_rec'].value_counts()"
   ]
  },
  {
   "cell_type": "code",
   "execution_count": 21,
   "metadata": {},
   "outputs": [
    {
     "data": {
      "text/plain": [
       "10+ years    5506\n",
       "2 years      3034\n",
       "< 1 year     2940\n",
       "3 years      2710\n",
       "1 year       2308\n",
       "4 years      2216\n",
       "5 years      2102\n",
       "6 years      1397\n",
       "7 years      1151\n",
       "8 years       945\n",
       "9 years       826\n",
       "Name: emp_length, dtype: int64"
      ]
     },
     "execution_count": 21,
     "metadata": {},
     "output_type": "execute_result"
    }
   ],
   "source": [
    "data['emp_length'].value_counts()"
   ]
  },
  {
   "cell_type": "code",
   "execution_count": 22,
   "metadata": {},
   "outputs": [
    {
     "data": {
      "text/plain": [
       "0.0    25129\n",
       "Name: chargeoff_within_12_mths, dtype: int64"
      ]
     },
     "execution_count": 22,
     "metadata": {},
     "output_type": "execute_result"
    }
   ],
   "source": [
    "data['chargeoff_within_12_mths'].value_counts()"
   ]
  },
  {
   "cell_type": "code",
   "execution_count": 23,
   "metadata": {},
   "outputs": [],
   "source": [
    "data=data.drop(['chargeoff_within_12_mths'] , axis=1)"
   ]
  },
  {
   "cell_type": "code",
   "execution_count": 24,
   "metadata": {},
   "outputs": [
    {
     "data": {
      "text/plain": [
       "(25173, 53)"
      ]
     },
     "execution_count": 24,
     "metadata": {},
     "output_type": "execute_result"
    }
   ],
   "source": [
    "data.shape"
   ]
  },
  {
   "cell_type": "code",
   "execution_count": 25,
   "metadata": {},
   "outputs": [
    {
     "data": {
      "text/plain": [
       "0.0    25129\n",
       "Name: collections_12_mths_ex_med, dtype: int64"
      ]
     },
     "execution_count": 25,
     "metadata": {},
     "output_type": "execute_result"
    }
   ],
   "source": [
    "data['collections_12_mths_ex_med'].value_counts()"
   ]
  },
  {
   "cell_type": "code",
   "execution_count": 26,
   "metadata": {},
   "outputs": [],
   "source": [
    "data=data.drop(['collections_12_mths_ex_med'] , axis=1)"
   ]
  },
  {
   "cell_type": "code",
   "execution_count": 27,
   "metadata": {},
   "outputs": [
    {
     "data": {
      "text/plain": [
       "Fully Paid     20996\n",
       "Charged Off     3497\n",
       "Current          680\n",
       "Name: loan_status, dtype: int64"
      ]
     },
     "execution_count": 27,
     "metadata": {},
     "output_type": "execute_result"
    }
   ],
   "source": [
    "data['loan_status'].value_counts()"
   ]
  },
  {
   "cell_type": "code",
   "execution_count": null,
   "metadata": {},
   "outputs": [],
   "source": []
  },
  {
   "cell_type": "code",
   "execution_count": 28,
   "metadata": {},
   "outputs": [
    {
     "data": {
      "text/plain": [
       "0.0    23510\n",
       "1.0     1008\n",
       "2.0        4\n",
       "Name: pub_rec_bankruptcies, dtype: int64"
      ]
     },
     "execution_count": 28,
     "metadata": {},
     "output_type": "execute_result"
    }
   ],
   "source": [
    "data[\"pub_rec_bankruptcies\"].value_counts()"
   ]
  },
  {
   "cell_type": "code",
   "execution_count": 29,
   "metadata": {},
   "outputs": [],
   "source": [
    "data[\"pub_rec_bankruptcies\"] =data[\"pub_rec_bankruptcies\"].fillna(data[\"pub_rec_bankruptcies\"].median())\n"
   ]
  },
  {
   "cell_type": "code",
   "execution_count": 30,
   "metadata": {
    "scrolled": true
   },
   "outputs": [
    {
     "name": "stdout",
     "output_type": "stream",
     "text": [
      "funded_amnt_inv            float64\n",
      "installment                float64\n",
      "annual_inc                 float64\n",
      "dti                        float64\n",
      "out_prncp                  float64\n",
      "out_prncp_inv              float64\n",
      "total_pymnt                float64\n",
      "total_pymnt_inv            float64\n",
      "total_rec_prncp            float64\n",
      "total_rec_int              float64\n",
      "total_rec_late_fee         float64\n",
      "recoveries                 float64\n",
      "collection_recovery_fee    float64\n",
      "last_pymnt_amnt            float64\n",
      "pub_rec_bankruptcies       float64\n",
      "tax_liens                  float64\n",
      "dtype: object\n"
     ]
    }
   ],
   "source": [
    "numerical = data.dtypes[data.dtypes == float]\n",
    "\n",
    "print(numerical)"
   ]
  },
  {
   "cell_type": "code",
   "execution_count": 31,
   "metadata": {},
   "outputs": [
    {
     "data": {
      "text/plain": [
       "0.0    25144\n",
       "Name: tax_liens, dtype: int64"
      ]
     },
     "execution_count": 31,
     "metadata": {},
     "output_type": "execute_result"
    }
   ],
   "source": [
    "data[\"tax_liens\"].value_counts()"
   ]
  },
  {
   "cell_type": "code",
   "execution_count": 32,
   "metadata": {},
   "outputs": [],
   "source": [
    "data[\"tax_liens\"] =data[\"tax_liens\"].fillna(data[\"tax_liens\"].median())\n",
    "\n"
   ]
  },
  {
   "cell_type": "code",
   "execution_count": 33,
   "metadata": {},
   "outputs": [],
   "source": [
    "data = data.drop(data.columns[data.apply(lambda y :y.value_counts==0)],axis=1)"
   ]
  },
  {
   "cell_type": "code",
   "execution_count": 34,
   "metadata": {},
   "outputs": [
    {
     "data": {
      "text/plain": [
       "(25173, 52)"
      ]
     },
     "execution_count": 34,
     "metadata": {},
     "output_type": "execute_result"
    }
   ],
   "source": [
    "data.shape"
   ]
  },
  {
   "cell_type": "code",
   "execution_count": 35,
   "metadata": {},
   "outputs": [
    {
     "data": {
      "text/plain": [
       "0    25173\n",
       "Name: delinq_amnt, dtype: int64"
      ]
     },
     "execution_count": 35,
     "metadata": {},
     "output_type": "execute_result"
    }
   ],
   "source": [
    "data[\"delinq_amnt\"].value_counts()"
   ]
  },
  {
   "cell_type": "code",
   "execution_count": 36,
   "metadata": {},
   "outputs": [],
   "source": [
    "data[\"delinq_amnt\"] =data[\"delinq_amnt\"].fillna(data[\"delinq_amnt\"].median())\n"
   ]
  },
  {
   "cell_type": "code",
   "execution_count": 37,
   "metadata": {},
   "outputs": [
    {
     "data": {
      "text/plain": [
       "0    25173\n",
       "Name: acc_now_delinq, dtype: int64"
      ]
     },
     "execution_count": 37,
     "metadata": {},
     "output_type": "execute_result"
    }
   ],
   "source": [
    "data[\"acc_now_delinq\"].value_counts()\n",
    "\n"
   ]
  },
  {
   "cell_type": "code",
   "execution_count": 38,
   "metadata": {},
   "outputs": [],
   "source": [
    "data[\"acc_now_delinq\"] =data[\"acc_now_delinq\"].fillna(data[\"acc_now_delinq\"].median())\n"
   ]
  },
  {
   "cell_type": "code",
   "execution_count": 39,
   "metadata": {},
   "outputs": [
    {
     "data": {
      "text/plain": [
       "id                          0\n",
       "member_id                   0\n",
       "loan_amnt                   0\n",
       "funded_amnt                 0\n",
       "funded_amnt_inv             0\n",
       "term                        0\n",
       "int_rate                    0\n",
       "installment                 0\n",
       "grade                       0\n",
       "sub_grade                   0\n",
       "emp_title                   0\n",
       "emp_length                 38\n",
       "home_ownership              0\n",
       "annual_inc                  0\n",
       "verification_status         0\n",
       "issue_d                     0\n",
       "loan_status                 0\n",
       "pymnt_plan                  0\n",
       "url                         0\n",
       "desc                        0\n",
       "purpose                     0\n",
       "title                       5\n",
       "zip_code                    0\n",
       "addr_state                  0\n",
       "dti                         0\n",
       "delinq_2yrs                 0\n",
       "earliest_cr_line            0\n",
       "inq_last_6mths              0\n",
       "open_acc                    0\n",
       "pub_rec                     0\n",
       "revol_bal                   0\n",
       "revol_util                 33\n",
       "total_acc                   0\n",
       "initial_list_status         0\n",
       "out_prncp                   0\n",
       "out_prncp_inv               0\n",
       "total_pymnt                 0\n",
       "total_pymnt_inv             0\n",
       "total_rec_prncp             0\n",
       "total_rec_int               0\n",
       "total_rec_late_fee          0\n",
       "recoveries                  0\n",
       "collection_recovery_fee     0\n",
       "last_pymnt_d               41\n",
       "last_pymnt_amnt             0\n",
       "last_credit_pull_d          0\n",
       "policy_code                 0\n",
       "application_type            0\n",
       "acc_now_delinq              0\n",
       "delinq_amnt                 0\n",
       "pub_rec_bankruptcies        0\n",
       "tax_liens                   0\n",
       "dtype: int64"
      ]
     },
     "execution_count": 39,
     "metadata": {},
     "output_type": "execute_result"
    }
   ],
   "source": [
    "data.apply(lambda x: sum(x.isnull()))"
   ]
  },
  {
   "cell_type": "code",
   "execution_count": 40,
   "metadata": {},
   "outputs": [],
   "source": [
    "data[\"acc_now_delinq\"] =data[\"acc_now_delinq\"].fillna(data[\"acc_now_delinq\"].median())\n",
    "\n"
   ]
  },
  {
   "cell_type": "code",
   "execution_count": null,
   "metadata": {},
   "outputs": [],
   "source": []
  },
  {
   "cell_type": "code",
   "execution_count": 41,
   "metadata": {},
   "outputs": [],
   "source": [
    "data[\"open_acc\"] =data[\"open_acc\"].fillna(data[\"open_acc\"].mean())\n",
    "data[\"total_acc\"] =data[\"total_acc\"].fillna(data[\"total_acc\"].mean())\n",
    "data[\"delinq_2yrs\"] =data[\"delinq_2yrs\"].fillna(data[\"delinq_2yrs\"].median())\n"
   ]
  },
  {
   "cell_type": "code",
   "execution_count": null,
   "metadata": {},
   "outputs": [],
   "source": []
  },
  {
   "cell_type": "code",
   "execution_count": 42,
   "metadata": {},
   "outputs": [
    {
     "data": {
      "text/plain": [
       "0     22462\n",
       "1      2093\n",
       "2       418\n",
       "3       149\n",
       "4        32\n",
       "5        10\n",
       "6         6\n",
       "7         2\n",
       "11        1\n",
       "Name: delinq_2yrs, dtype: int64"
      ]
     },
     "execution_count": 42,
     "metadata": {},
     "output_type": "execute_result"
    }
   ],
   "source": [
    "data[\"open_acc\"].value_counts()\n",
    "data[\"delinq_2yrs\"].value_counts()\n"
   ]
  },
  {
   "cell_type": "code",
   "execution_count": 43,
   "metadata": {},
   "outputs": [
    {
     "data": {
      "text/plain": [
       "10+ years    5506\n",
       "2 years      3034\n",
       "< 1 year     2940\n",
       "3 years      2710\n",
       "1 year       2308\n",
       "4 years      2216\n",
       "5 years      2102\n",
       "6 years      1397\n",
       "7 years      1151\n",
       "8 years       945\n",
       "9 years       826\n",
       "Name: emp_length, dtype: int64"
      ]
     },
     "execution_count": 43,
     "metadata": {},
     "output_type": "execute_result"
    }
   ],
   "source": [
    "data[\"emp_length\"].value_counts()"
   ]
  },
  {
   "cell_type": "code",
   "execution_count": 44,
   "metadata": {},
   "outputs": [],
   "source": [
    "data[\"emp_length\"] =data[\"emp_length\"].fillna(\"10+ years\")\n"
   ]
  },
  {
   "cell_type": "code",
   "execution_count": 45,
   "metadata": {},
   "outputs": [
    {
     "name": "stdout",
     "output_type": "stream",
     "text": [
      "Index(['term', 'int_rate', 'grade', 'sub_grade', 'emp_title', 'emp_length',\n",
      "       'home_ownership', 'verification_status', 'issue_d', 'loan_status',\n",
      "       'pymnt_plan', 'url', 'desc', 'purpose', 'title', 'zip_code',\n",
      "       'addr_state', 'earliest_cr_line', 'revol_util', 'initial_list_status',\n",
      "       'last_pymnt_d', 'next_pymnt_d', 'last_credit_pull_d',\n",
      "       'application_type'],\n",
      "      dtype='object')\n"
     ]
    }
   ],
   "source": [
    "print(categorical)"
   ]
  },
  {
   "cell_type": "code",
   "execution_count": 46,
   "metadata": {},
   "outputs": [
    {
     "data": {
      "text/plain": [
       "id                          0\n",
       "member_id                   0\n",
       "loan_amnt                   0\n",
       "funded_amnt                 0\n",
       "funded_amnt_inv             0\n",
       "term                        0\n",
       "int_rate                    0\n",
       "installment                 0\n",
       "grade                       0\n",
       "sub_grade                   0\n",
       "emp_title                   0\n",
       "emp_length                  0\n",
       "home_ownership              0\n",
       "annual_inc                  0\n",
       "verification_status         0\n",
       "issue_d                     0\n",
       "loan_status                 0\n",
       "pymnt_plan                  0\n",
       "url                         0\n",
       "desc                        0\n",
       "purpose                     0\n",
       "title                       5\n",
       "zip_code                    0\n",
       "addr_state                  0\n",
       "dti                         0\n",
       "delinq_2yrs                 0\n",
       "earliest_cr_line            0\n",
       "inq_last_6mths              0\n",
       "open_acc                    0\n",
       "pub_rec                     0\n",
       "revol_bal                   0\n",
       "revol_util                 33\n",
       "total_acc                   0\n",
       "initial_list_status         0\n",
       "out_prncp                   0\n",
       "out_prncp_inv               0\n",
       "total_pymnt                 0\n",
       "total_pymnt_inv             0\n",
       "total_rec_prncp             0\n",
       "total_rec_int               0\n",
       "total_rec_late_fee          0\n",
       "recoveries                  0\n",
       "collection_recovery_fee     0\n",
       "last_pymnt_d               41\n",
       "last_pymnt_amnt             0\n",
       "last_credit_pull_d          0\n",
       "policy_code                 0\n",
       "application_type            0\n",
       "acc_now_delinq              0\n",
       "delinq_amnt                 0\n",
       "pub_rec_bankruptcies        0\n",
       "tax_liens                   0\n",
       "dtype: int64"
      ]
     },
     "execution_count": 46,
     "metadata": {},
     "output_type": "execute_result"
    }
   ],
   "source": [
    "data.apply(lambda y :sum(y.isnull()))"
   ]
  },
  {
   "cell_type": "code",
   "execution_count": 47,
   "metadata": {},
   "outputs": [
    {
     "data": {
      "text/plain": [
       "debt_consolidation    12044\n",
       "credit_card            3256\n",
       "other                  2549\n",
       "home_improvement       1831\n",
       "major_purchase         1364\n",
       "small_business         1088\n",
       "car                     913\n",
       "wedding                 614\n",
       "medical                 409\n",
       "moving                  321\n",
       "educational             267\n",
       "house                   260\n",
       "vacation                198\n",
       "renewable_energy         59\n",
       "Name: purpose, dtype: int64"
      ]
     },
     "execution_count": 47,
     "metadata": {},
     "output_type": "execute_result"
    }
   ],
   "source": [
    "data[\"purpose\"].value_counts()"
   ]
  },
  {
   "cell_type": "code",
   "execution_count": 48,
   "metadata": {},
   "outputs": [],
   "source": [
    "data[\"purpose\"] =data[\"purpose\"].fillna(\"debt_consolidation\")\n"
   ]
  },
  {
   "cell_type": "code",
   "execution_count": 49,
   "metadata": {},
   "outputs": [
    {
     "data": {
      "text/plain": [
       "Debt Consolidation                        1409\n",
       "Debt Consolidation Loan                    949\n",
       "Personal Loan                              423\n",
       "Consolidation                              316\n",
       "debt consolidation                         281\n",
       "Credit Card Consolidation                  233\n",
       "Home Improvement                           216\n",
       "Debt consolidation                         207\n",
       "Consolidation Loan                         177\n",
       "Personal                                   176\n",
       "Credit Card Loan                           162\n",
       "personal loan                              157\n",
       "Small Business Loan                        153\n",
       "Home Improvement Loan                      133\n",
       "personal                                   128\n",
       "Loan                                       119\n",
       "consolidation                              114\n",
       "Wedding Loan                               114\n",
       "Credit Card Payoff                          93\n",
       "Car Loan                                    92\n",
       "Wedding                                     90\n",
       "Other Loan                                  87\n",
       "Major Purchase Loan                         82\n",
       "Consolidate                                 76\n",
       "Credit Card Refinance                       74\n",
       "Medical                                     60\n",
       "Credit Card                                 59\n",
       "home improvement                            58\n",
       "Debt                                        58\n",
       "My Loan                                     54\n",
       "                                          ... \n",
       "Pay off higher interest loans                1\n",
       "Need new Central A/C System                  1\n",
       "private owner car purchase                   1\n",
       "vac/remodel                                  1\n",
       "Uncle Sam                                    1\n",
       "Debt consolidation/Home AC replacement       1\n",
       "company                                      1\n",
       "Swimmimg Pool Upgrade                        1\n",
       "2000loan                                     1\n",
       "Loan for Finishing College Degree            1\n",
       "Reliable, consolidating revolving debt       1\n",
       "swift motorcycle                             1\n",
       "Refinance LC Loan & Consolidate!             1\n",
       "Gold Wing                                    1\n",
       "Consolidation credit card debt               1\n",
       "Broomer-Debt Consolidation                   1\n",
       "tobeornottobe                                1\n",
       "home improve                                 1\n",
       "Moto Money                                   1\n",
       "financial freedom                            1\n",
       "Arceo Family                                 1\n",
       "Out of High Interest Loan                    1\n",
       "Jump-Start Direct Mail!!                     1\n",
       "Sweet Auto Refinance                         1\n",
       "s2k                                          1\n",
       "Consolidate debt                             1\n",
       "further debt consolidation                   1\n",
       "Auto wholesaler loan                         1\n",
       "Woodworking                                  1\n",
       "DEBT RELIEF                                  1\n",
       "Name: title, Length: 13836, dtype: int64"
      ]
     },
     "execution_count": 49,
     "metadata": {},
     "output_type": "execute_result"
    }
   ],
   "source": [
    "data[\"title\"].value_counts()"
   ]
  },
  {
   "cell_type": "code",
   "execution_count": 50,
   "metadata": {},
   "outputs": [],
   "source": [
    "data[\"title\"] =data[\"title\"].fillna(\"Debt Consolidation\")"
   ]
  },
  {
   "cell_type": "code",
   "execution_count": null,
   "metadata": {},
   "outputs": [],
   "source": []
  },
  {
   "cell_type": "code",
   "execution_count": 51,
   "metadata": {},
   "outputs": [
    {
     "data": {
      "text/plain": [
       "0%        594\n",
       "0.20%      43\n",
       "46.40%     43\n",
       "66.70%     43\n",
       "63%        42\n",
       "44.70%     41\n",
       "88%        41\n",
       "89.50%     40\n",
       "72.10%     39\n",
       "34.40%     39\n",
       "66.60%     39\n",
       "51.60%     39\n",
       "52.30%     39\n",
       "48%        38\n",
       "48.70%     38\n",
       "51.10%     38\n",
       "39%        38\n",
       "30.10%     37\n",
       "57.70%     37\n",
       "41%        37\n",
       "65.90%     37\n",
       "48.20%     37\n",
       "37.60%     37\n",
       "66.80%     37\n",
       "19.80%     36\n",
       "62.80%     36\n",
       "25.50%     36\n",
       "46.60%     36\n",
       "49.60%     36\n",
       "30.90%     36\n",
       "         ... \n",
       "8.01%       1\n",
       "33.29%      1\n",
       "58.19%      1\n",
       "21.59%      1\n",
       "0.54%       1\n",
       "60.69%      1\n",
       "5.34%       1\n",
       "34.89%      1\n",
       "10.17%      1\n",
       "38.77%      1\n",
       "37.63%      1\n",
       "37.73%      1\n",
       "7.28%       1\n",
       "69.98%      1\n",
       "11.63%      1\n",
       "29.53%      1\n",
       "49.69%      1\n",
       "0.83%       1\n",
       "7.43%       1\n",
       "5.33%       1\n",
       "0.75%       1\n",
       "54.22%      1\n",
       "17.71%      1\n",
       "24.66%      1\n",
       "0.86%       1\n",
       "57.56%      1\n",
       "32.71%      1\n",
       "10.61%      1\n",
       "8.49%       1\n",
       "27.81%      1\n",
       "Name: revol_util, Length: 1049, dtype: int64"
      ]
     },
     "execution_count": 51,
     "metadata": {},
     "output_type": "execute_result"
    }
   ],
   "source": [
    "data[\"revol_util\"].value_counts()"
   ]
  },
  {
   "cell_type": "code",
   "execution_count": 52,
   "metadata": {},
   "outputs": [],
   "source": [
    "data[\"revol_util\"] =data[\"revol_util\"].fillna(\"0%\")"
   ]
  },
  {
   "cell_type": "code",
   "execution_count": null,
   "metadata": {},
   "outputs": [],
   "source": []
  },
  {
   "cell_type": "code",
   "execution_count": 53,
   "metadata": {},
   "outputs": [
    {
     "data": {
      "text/plain": [
       "(25173, 52)"
      ]
     },
     "execution_count": 53,
     "metadata": {},
     "output_type": "execute_result"
    }
   ],
   "source": [
    "data.shape"
   ]
  },
  {
   "cell_type": "code",
   "execution_count": 54,
   "metadata": {},
   "outputs": [
    {
     "data": {
      "text/plain": [
       "id                          0\n",
       "member_id                   0\n",
       "loan_amnt                   0\n",
       "funded_amnt                 0\n",
       "funded_amnt_inv             0\n",
       "term                        0\n",
       "int_rate                    0\n",
       "installment                 0\n",
       "grade                       0\n",
       "sub_grade                   0\n",
       "emp_title                   0\n",
       "emp_length                  0\n",
       "home_ownership              0\n",
       "annual_inc                  0\n",
       "verification_status         0\n",
       "issue_d                     0\n",
       "loan_status                 0\n",
       "pymnt_plan                  0\n",
       "url                         0\n",
       "desc                        0\n",
       "purpose                     0\n",
       "title                       0\n",
       "zip_code                    0\n",
       "addr_state                  0\n",
       "dti                         0\n",
       "delinq_2yrs                 0\n",
       "earliest_cr_line            0\n",
       "inq_last_6mths              0\n",
       "open_acc                    0\n",
       "pub_rec                     0\n",
       "revol_bal                   0\n",
       "revol_util                  0\n",
       "total_acc                   0\n",
       "initial_list_status         0\n",
       "out_prncp                   0\n",
       "out_prncp_inv               0\n",
       "total_pymnt                 0\n",
       "total_pymnt_inv             0\n",
       "total_rec_prncp             0\n",
       "total_rec_int               0\n",
       "total_rec_late_fee          0\n",
       "recoveries                  0\n",
       "collection_recovery_fee     0\n",
       "last_pymnt_d               41\n",
       "last_pymnt_amnt             0\n",
       "last_credit_pull_d          0\n",
       "policy_code                 0\n",
       "application_type            0\n",
       "acc_now_delinq              0\n",
       "delinq_amnt                 0\n",
       "pub_rec_bankruptcies        0\n",
       "tax_liens                   0\n",
       "dtype: int64"
      ]
     },
     "execution_count": 54,
     "metadata": {},
     "output_type": "execute_result"
    }
   ],
   "source": [
    "data.apply(lambda a:sum(a.isnull()))"
   ]
  },
  {
   "cell_type": "code",
   "execution_count": 55,
   "metadata": {},
   "outputs": [
    {
     "data": {
      "text/plain": [
       "0    23857\n",
       "1     1275\n",
       "2       35\n",
       "3        6\n",
       "Name: pub_rec, dtype: int64"
      ]
     },
     "execution_count": 55,
     "metadata": {},
     "output_type": "execute_result"
    }
   ],
   "source": [
    "data[\"pub_rec\"].value_counts()"
   ]
  },
  {
   "cell_type": "code",
   "execution_count": 56,
   "metadata": {},
   "outputs": [],
   "source": [
    "data[\"pub_rec\"]= data[\"pub_rec\"].fillna(data[\"pub_rec\"].mean())"
   ]
  },
  {
   "cell_type": "code",
   "execution_count": 57,
   "metadata": {},
   "outputs": [],
   "source": [
    "data =data.drop(['last_pymnt_d','last_credit_pull_d','inq_last_6mths','earliest_cr_line'],axis=1)"
   ]
  },
  {
   "cell_type": "code",
   "execution_count": 58,
   "metadata": {},
   "outputs": [
    {
     "name": "stdout",
     "output_type": "stream",
     "text": [
      "Index(['term', 'int_rate', 'grade', 'sub_grade', 'emp_title', 'emp_length',\n",
      "       'home_ownership', 'verification_status', 'issue_d', 'loan_status',\n",
      "       'pymnt_plan', 'url', 'desc', 'purpose', 'title', 'zip_code',\n",
      "       'addr_state', 'earliest_cr_line', 'revol_util', 'initial_list_status',\n",
      "       'last_pymnt_d', 'next_pymnt_d', 'last_credit_pull_d',\n",
      "       'application_type'],\n",
      "      dtype='object')\n"
     ]
    }
   ],
   "source": [
    "print(categorical)"
   ]
  },
  {
   "cell_type": "code",
   "execution_count": null,
   "metadata": {},
   "outputs": [],
   "source": []
  },
  {
   "cell_type": "code",
   "execution_count": 59,
   "metadata": {},
   "outputs": [
    {
     "data": {
      "text/plain": [
       "<matplotlib.axes._subplots.AxesSubplot at 0x1fdfae52ac8>"
      ]
     },
     "execution_count": 59,
     "metadata": {},
     "output_type": "execute_result"
    },
    {
     "data": {
      "image/png": "[encoded data removed]",
      "text/plain": [
       "<Figure size 1152x864 with 2 Axes>"
      ]
     },
     "metadata": {
      "needs_background": "light"
     },
     "output_type": "display_data"
    }
   ],
   "source": [
    "corr = data.corr()\n",
    "plt.figure(figsize = (16,12))\n",
    "cmap = sns.diverging_palette(220, 10, as_cmap=True)\n",
    "sns.heatmap(corr, xticklabels=corr.columns.values, yticklabels=corr.columns.values, cmap=cmap, vmax=.3, center=0, square=True, linewidths=.5, cbar_kws={\"shrink\": .82})\n"
   ]
  },
  {
   "cell_type": "code",
   "execution_count": 60,
   "metadata": {},
   "outputs": [],
   "source": [
    "data2 = pd.get_dummies(data, columns =['term', 'int_rate', 'grade', 'sub_grade', \n",
    "       'emp_length', 'home_ownership', 'verification_status', \n",
    "       'loan_status', 'pymnt_plan'])"
   ]
  },
  {
   "cell_type": "code",
   "execution_count": 61,
   "metadata": {},
   "outputs": [
    {
     "name": "stdout",
     "output_type": "stream",
     "text": [
      "            id  member_id  loan_amnt  funded_amnt  funded_amnt_inv  \\\n",
      "1      1077430    1314167       2500         2500       2500.00000   \n",
      "3      1076863    1277178      10000        10000      10000.00000   \n",
      "4      1075358    1311748       3000         3000       3000.00000   \n",
      "6      1069639    1304742       7000         7000       7000.00000   \n",
      "7      1072053    1288686       3000         3000       3000.00000   \n",
      "9      1071570    1306721       5375         5375       5350.00000   \n",
      "10     1070078    1305201       6500         6500       6500.00000   \n",
      "12     1064687    1298717       9000         9000       9000.00000   \n",
      "13     1069866    1304956       3000         3000       3000.00000   \n",
      "17     1069971    1304884       3600         3600       3600.00000   \n",
      "18     1062474    1294539       6000         6000       6000.00000   \n",
      "20     1069740    1284848      20250        20250      19142.16108   \n",
      "21     1039153    1269083      21000        21000      21000.00000   \n",
      "22     1069710    1304821      10000        10000      10000.00000   \n",
      "26     1069800    1304679      15000        15000       8725.00000   \n",
      "27     1069657    1304764       5000         5000       5000.00000   \n",
      "29     1047704    1278806       8500         8500       8500.00000   \n",
      "31     1069539    1304608      31825        31825      31825.00000   \n",
      "33     1069591    1304289       5000         5000       5000.00000   \n",
      "35     1069522    1304589      12400        12400      12400.00000   \n",
      "36     1069361    1304255      10800        10800      10800.00000   \n",
      "37     1069357    1304251      15000        15000      15000.00000   \n",
      "38     1069356    1304250       6000         6000       6000.00000   \n",
      "39     1069346    1304237      12500        12500      12475.00000   \n",
      "40     1067573    1301955       9600         9600       9600.00000   \n",
      "41     1069506    1304567      12000        12000      12000.00000   \n",
      "44     1069469    1304526       6000         6000       6000.00000   \n",
      "45     1051117    1282787      14000        14000      14000.00000   \n",
      "50     1069248    1304123      15000        15000      15000.00000   \n",
      "51     1068120    1302485      25600        25600      25350.00000   \n",
      "...        ...        ...        ...          ...              ...   \n",
      "39680   112496     112493       3000         3000        525.00000   \n",
      "39681   112323     107671       3500         3500       1125.00000   \n",
      "39682    99009      98991       5750         5750       3675.00000   \n",
      "39683   112245     112227       5000         5000       3975.00000   \n",
      "39684   112216     106279      12000        12000       1025.00000   \n",
      "39685   100214     100208       5000         5000       3675.00000   \n",
      "39686   111917     111912       6400         6400       4075.00000   \n",
      "39687   111307     105982      12000        12000       2500.00000   \n",
      "39688   111227     111223      20000        20000       2800.00000   \n",
      "39689   109355     109346       1200         1200          0.00000   \n",
      "39690   107136     107130      12250        12250       1525.00000   \n",
      "39691   106360     106333       2700         2700        550.00000   \n",
      "39692    76597      76583       5000         5000       1775.00000   \n",
      "39693   106079     106039       3500         3500       1200.00000   \n",
      "39694    90966      90962       5000         5000       4150.00000   \n",
      "39695    92440      92423       5000         5000       3100.00000   \n",
      "39696   102376      95212      25000        25000        525.00000   \n",
      "39697   101579     100083      10000        10000        400.00000   \n",
      "39698    98982      98957       5000         5000        675.00000   \n",
      "39699    98339      97572       5100         5100        575.00000   \n",
      "39701    96844      95222       5300         5300        600.00000   \n",
      "39702    96350      96338       5000         5000        850.00000   \n",
      "39703    94838      73673       3000         3000       2550.00000   \n",
      "39705    93061      93057       5000         5000        250.00000   \n",
      "39707    92666      92661       5000         5000        525.00000   \n",
      "39708    92552      92542       5000         5000        375.00000   \n",
      "39711    92402      92390       5000         5000        700.00000   \n",
      "39712    92187      92174       2500         2500       1075.00000   \n",
      "39713    90665      90607       8500         8500        875.00000   \n",
      "39716    87023      86999       7500         7500        800.00000   \n",
      "\n",
      "       installment                                       emp_title  \\\n",
      "1            59.83                                           Ryder   \n",
      "3           339.31                             AIR RESOURCES BOARD   \n",
      "4            67.79                        University Medical Group   \n",
      "6           170.08                       Southern Star Photography   \n",
      "7           109.43                                 MKC Accounting    \n",
      "9           121.45                                       Starbucks   \n",
      "10          153.45                           Southwest Rural metro   \n",
      "12          305.38             Va. Dept of Conservation/Recreation   \n",
      "13           96.68                                          Target   \n",
      "17          109.57                                        Duracell   \n",
      "18          198.46                           Connection Inspection   \n",
      "20          484.63                Archdiocese of Galveston Houston   \n",
      "21          701.73                                  Osram Sylvania   \n",
      "22          330.76                                       Value Air   \n",
      "26          514.64                                     nyc transit   \n",
      "27          123.65                                       Frito Lay   \n",
      "29          281.15                                  Oakridge homes   \n",
      "31          995.82              Audubon Mutual Housing Corporation   \n",
      "33          158.77                          Good Samaritan Society   \n",
      "35          403.91                                 Sharp Lawn Inc.   \n",
      "36          348.03                           Department of Justice   \n",
      "37          469.36                                 Gateway Hospice   \n",
      "38          200.50                              Cox Communications   \n",
      "39          282.44        United States Infrastructure Corporation   \n",
      "40          298.67                          Nucor Building Systems   \n",
      "41          375.49                                  John Wiley Jr.   \n",
      "44          182.62                       Stewart Enterprises, Inc.   \n",
      "45          451.15                               golfers warehouse   \n",
      "50          483.38                                Caterpillar Inc.   \n",
      "51          824.96                           City of Santa Monica    \n",
      "...            ...                                             ...   \n",
      "39680        99.44                         Fairfield Manufacturing   \n",
      "39681       113.39                           The Dartmouth Company   \n",
      "39682       178.69                                             FDA   \n",
      "39683       155.38                       Norman G. Olson Insurance   \n",
      "39684       397.75                        Panavision International   \n",
      "39685       155.38                                   Self-Employed   \n",
      "39686       205.45                                 Stratagem, Inc.   \n",
      "39687       401.37                           ISO MERCHANT SERVICES   \n",
      "39688       678.08                            Auto motors of miami   \n",
      "39689        39.60                             Eastland Park Hotel   \n",
      "39690       398.69                                  Zensah Company   \n",
      "39691        94.88                             Turner Construction   \n",
      "39692       159.03                                Ping Interactive   \n",
      "39693       112.87                            UNIQUE ID WEB DESIGN   \n",
      "39694       155.38                              Oracle Corporation   \n",
      "39695       155.38                                  MetraTech Corp   \n",
      "39696       813.65  Institute for Mind/Body Research and Education   \n",
      "39697       323.98                            RoadNarrows Robotics   \n",
      "39698       159.03                                      Viget Labs   \n",
      "39699       160.72                 Northwestern School Corporation   \n",
      "39701       167.02                           Peerless Pump Company   \n",
      "39702       164.23                                   Self-employed   \n",
      "39703        97.20                                          Oracle   \n",
      "39705       155.38                                       MetraTech   \n",
      "39707       159.77                              Stark and Roth Inc   \n",
      "39708       161.25                                 Millenium Group   \n",
      "39711       158.30                             A. F. Wolfers, Inc.   \n",
      "39712        78.42                                 FiSite Research   \n",
      "39713       275.38                      Squarewave Solutions, Ltd.   \n",
      "39716       255.43                                Evergreen Center   \n",
      "\n",
      "       annual_inc issue_d                                                url  \\\n",
      "1         30000.0  Dec-11  https://lendingclub.com/browse/loanDetail.acti...   \n",
      "3         49200.0  Dec-11  https://lendingclub.com/browse/loanDetail.acti...   \n",
      "4         80000.0  Dec-11  https://lendingclub.com/browse/loanDetail.acti...   \n",
      "6         47004.0  Dec-11  https://lendingclub.com/browse/loanDetail.acti...   \n",
      "7         48000.0  Dec-11  https://lendingclub.com/browse/loanDetail.acti...   \n",
      "9         15000.0  Dec-11  https://lendingclub.com/browse/loanDetail.acti...   \n",
      "10        72000.0  Dec-11  https://lendingclub.com/browse/loanDetail.acti...   \n",
      "12        30000.0  Dec-11  https://lendingclub.com/browse/loanDetail.acti...   \n",
      "13        15000.0  Dec-11  https://lendingclub.com/browse/loanDetail.acti...   \n",
      "17       110000.0  Dec-11  https://lendingclub.com/browse/loanDetail.acti...   \n",
      "18        84000.0  Dec-11  https://lendingclub.com/browse/loanDetail.acti...   \n",
      "20        43370.0  Dec-11  https://lendingclub.com/browse/loanDetail.acti...   \n",
      "21       105000.0  Dec-11  https://lendingclub.com/browse/loanDetail.acti...   \n",
      "22        50000.0  Dec-11  https://lendingclub.com/browse/loanDetail.acti...   \n",
      "26        60000.0  Dec-11  https://lendingclub.com/browse/loanDetail.acti...   \n",
      "27        50004.0  Dec-11  https://lendingclub.com/browse/loanDetail.acti...   \n",
      "29        25000.0  Dec-11  https://lendingclub.com/browse/loanDetail.acti...   \n",
      "31        75000.0  Dec-11  https://lendingclub.com/browse/loanDetail.acti...   \n",
      "33        24044.0  Dec-11  https://lendingclub.com/browse/loanDetail.acti...   \n",
      "35        41000.0  Dec-11  https://lendingclub.com/browse/loanDetail.acti...   \n",
      "36        55596.0  Dec-11  https://lendingclub.com/browse/loanDetail.acti...   \n",
      "37        45000.0  Dec-11  https://lendingclub.com/browse/loanDetail.acti...   \n",
      "38        36852.0  Dec-11  https://lendingclub.com/browse/loanDetail.acti...   \n",
      "39        27000.0  Dec-11  https://lendingclub.com/browse/loanDetail.acti...   \n",
      "40        68004.0  Dec-11  https://lendingclub.com/browse/loanDetail.acti...   \n",
      "41        62300.0  Dec-11  https://lendingclub.com/browse/loanDetail.acti...   \n",
      "44        45600.0  Dec-11  https://lendingclub.com/browse/loanDetail.acti...   \n",
      "45        80000.0  Dec-11  https://lendingclub.com/browse/loanDetail.acti...   \n",
      "50        80000.0  Dec-11  https://lendingclub.com/browse/loanDetail.acti...   \n",
      "51       110000.0  Dec-11  https://lendingclub.com/browse/loanDetail.acti...   \n",
      "...           ...     ...                                                ...   \n",
      "39680     36153.0  Aug-07  https://lendingclub.com/browse/loanDetail.acti...   \n",
      "39681     20000.0  Jul-07  https://lendingclub.com/browse/loanDetail.acti...   \n",
      "39682    125000.0  Jul-07  https://lendingclub.com/browse/loanDetail.acti...   \n",
      "39683     40000.0  Jul-07  https://lendingclub.com/browse/loanDetail.acti...   \n",
      "39684     65000.0  Aug-07  https://lendingclub.com/browse/loanDetail.acti...   \n",
      "39685     45000.0  Aug-07  https://lendingclub.com/browse/loanDetail.acti...   \n",
      "39686     60000.0  Aug-07  https://lendingclub.com/browse/loanDetail.acti...   \n",
      "39687     75000.0  Aug-07  https://lendingclub.com/browse/loanDetail.acti...   \n",
      "39688    145000.0  Aug-07  https://lendingclub.com/browse/loanDetail.acti...   \n",
      "39689     20000.0  Jul-07  https://lendingclub.com/browse/loanDetail.acti...   \n",
      "39690     60000.0  Jul-07  https://lendingclub.com/browse/loanDetail.acti...   \n",
      "39691     52200.0  Jul-07  https://lendingclub.com/browse/loanDetail.acti...   \n",
      "39692    250000.0  Jul-07  https://lendingclub.com/browse/loanDetail.acti...   \n",
      "39693     13500.0  Jul-07  https://lendingclub.com/browse/loanDetail.acti...   \n",
      "39694    150000.0  Jul-07  https://lendingclub.com/browse/loanDetail.acti...   \n",
      "39695     95000.0  Jul-07  https://lendingclub.com/browse/loanDetail.acti...   \n",
      "39696     48000.0  Jul-07  https://lendingclub.com/browse/loanDetail.acti...   \n",
      "39697     27376.0  Jul-07  https://lendingclub.com/browse/loanDetail.acti...   \n",
      "39698     73000.0  Jul-07  https://lendingclub.com/browse/loanDetail.acti...   \n",
      "39699     32000.0  Jul-07  https://lendingclub.com/browse/loanDetail.acti...   \n",
      "39701     74000.0  Jul-07  https://lendingclub.com/browse/loanDetail.acti...   \n",
      "39702     30000.0  Jul-07  https://lendingclub.com/browse/loanDetail.acti...   \n",
      "39703    200000.0  Jul-07  https://lendingclub.com/browse/loanDetail.acti...   \n",
      "39705    120000.0  Jul-07  https://lendingclub.com/browse/loanDetail.acti...   \n",
      "39707    180000.0  Jul-07  https://lendingclub.com/browse/loanDetail.acti...   \n",
      "39708     48000.0  Jul-07  https://lendingclub.com/browse/loanDetail.acti...   \n",
      "39711     75000.0  Jul-07  https://lendingclub.com/browse/loanDetail.acti...   \n",
      "39712    110000.0  Jul-07  https://lendingclub.com/browse/loanDetail.acti...   \n",
      "39713     18000.0  Jul-07  https://lendingclub.com/browse/loanDetail.acti...   \n",
      "39716     22000.0  Jun-07  https://lendingclub.com/browse/loanDetail.acti...   \n",
      "\n",
      "       ... home_ownership_OTHER home_ownership_OWN home_ownership_RENT  \\\n",
      "1      ...                    0                  0                   1   \n",
      "3      ...                    0                  0                   1   \n",
      "4      ...                    0                  0                   1   \n",
      "6      ...                    0                  0                   1   \n",
      "7      ...                    0                  0                   1   \n",
      "9      ...                    0                  0                   1   \n",
      "10     ...                    0                  1                   0   \n",
      "12     ...                    0                  0                   1   \n",
      "13     ...                    0                  0                   1   \n",
      "17     ...                    0                  0                   0   \n",
      "18     ...                    0                  0                   0   \n",
      "20     ...                    0                  0                   1   \n",
      "21     ...                    0                  0                   1   \n",
      "22     ...                    0                  1                   0   \n",
      "26     ...                    0                  0                   1   \n",
      "27     ...                    0                  0                   1   \n",
      "29     ...                    0                  0                   1   \n",
      "31     ...                    0                  0                   0   \n",
      "33     ...                    0                  0                   1   \n",
      "35     ...                    0                  0                   1   \n",
      "36     ...                    0                  0                   1   \n",
      "37     ...                    0                  0                   1   \n",
      "38     ...                    0                  0                   1   \n",
      "39     ...                    0                  0                   1   \n",
      "40     ...                    0                  0                   1   \n",
      "41     ...                    0                  0                   1   \n",
      "44     ...                    0                  0                   0   \n",
      "45     ...                    0                  0                   1   \n",
      "50     ...                    0                  0                   0   \n",
      "51     ...                    0                  0                   1   \n",
      "...    ...                  ...                ...                 ...   \n",
      "39680  ...                    0                  0                   0   \n",
      "39681  ...                    0                  0                   1   \n",
      "39682  ...                    0                  0                   0   \n",
      "39683  ...                    0                  0                   1   \n",
      "39684  ...                    0                  0                   1   \n",
      "39685  ...                    0                  1                   0   \n",
      "39686  ...                    0                  0                   1   \n",
      "39687  ...                    0                  1                   0   \n",
      "39688  ...                    0                  0                   0   \n",
      "39689  ...                    0                  0                   1   \n",
      "39690  ...                    0                  0                   1   \n",
      "39691  ...                    0                  0                   1   \n",
      "39692  ...                    0                  0                   0   \n",
      "39693  ...                    0                  0                   1   \n",
      "39694  ...                    0                  0                   0   \n",
      "39695  ...                    0                  0                   0   \n",
      "39696  ...                    0                  0                   1   \n",
      "39697  ...                    0                  0                   1   \n",
      "39698  ...                    0                  0                   1   \n",
      "39699  ...                    0                  0                   1   \n",
      "39701  ...                    0                  0                   0   \n",
      "39702  ...                    0                  1                   0   \n",
      "39703  ...                    0                  0                   0   \n",
      "39705  ...                    0                  0                   0   \n",
      "39707  ...                    0                  0                   0   \n",
      "39708  ...                    0                  0                   0   \n",
      "39711  ...                    0                  0                   0   \n",
      "39712  ...                    0                  0                   0   \n",
      "39713  ...                    0                  0                   1   \n",
      "39716  ...                    0                  1                   0   \n",
      "\n",
      "      verification_status_Not Verified verification_status_Source Verified  \\\n",
      "1                                    0                                   1   \n",
      "3                                    0                                   1   \n",
      "4                                    0                                   1   \n",
      "6                                    1                                   0   \n",
      "7                                    0                                   1   \n",
      "9                                    0                                   0   \n",
      "10                                   1                                   0   \n",
      "12                                   0                                   1   \n",
      "13                                   0                                   1   \n",
      "17                                   1                                   0   \n",
      "18                                   0                                   0   \n",
      "20                                   0                                   0   \n",
      "21                                   0                                   0   \n",
      "22                                   0                                   1   \n",
      "26                                   1                                   0   \n",
      "27                                   1                                   0   \n",
      "29                                   0                                   1   \n",
      "31                                   0                                   0   \n",
      "33                                   0                                   0   \n",
      "35                                   1                                   0   \n",
      "36                                   0                                   1   \n",
      "37                                   0                                   0   \n",
      "38                                   0                                   1   \n",
      "39                                   0                                   0   \n",
      "40                                   0                                   1   \n",
      "41                                   1                                   0   \n",
      "44                                   1                                   0   \n",
      "45                                   1                                   0   \n",
      "50                                   1                                   0   \n",
      "51                                   0                                   0   \n",
      "...                                ...                                 ...   \n",
      "39680                                1                                   0   \n",
      "39681                                1                                   0   \n",
      "39682                                1                                   0   \n",
      "39683                                1                                   0   \n",
      "39684                                1                                   0   \n",
      "39685                                1                                   0   \n",
      "39686                                1                                   0   \n",
      "39687                                1                                   0   \n",
      "39688                                1                                   0   \n",
      "39689                                1                                   0   \n",
      "39690                                1                                   0   \n",
      "39691                                1                                   0   \n",
      "39692                                1                                   0   \n",
      "39693                                1                                   0   \n",
      "39694                                1                                   0   \n",
      "39695                                1                                   0   \n",
      "39696                                1                                   0   \n",
      "39697                                1                                   0   \n",
      "39698                                1                                   0   \n",
      "39699                                1                                   0   \n",
      "39701                                1                                   0   \n",
      "39702                                1                                   0   \n",
      "39703                                1                                   0   \n",
      "39705                                1                                   0   \n",
      "39707                                1                                   0   \n",
      "39708                                1                                   0   \n",
      "39711                                1                                   0   \n",
      "39712                                1                                   0   \n",
      "39713                                1                                   0   \n",
      "39716                                1                                   0   \n",
      "\n",
      "       verification_status_Verified  loan_status_Charged Off  \\\n",
      "1                                 0                        1   \n",
      "3                                 0                        0   \n",
      "4                                 0                        0   \n",
      "6                                 0                        0   \n",
      "7                                 0                        0   \n",
      "9                                 1                        1   \n",
      "10                                0                        0   \n",
      "12                                0                        1   \n",
      "13                                0                        0   \n",
      "17                                0                        0   \n",
      "18                                1                        0   \n",
      "20                                1                        0   \n",
      "21                                1                        1   \n",
      "22                                0                        0   \n",
      "26                                0                        1   \n",
      "27                                0                        1   \n",
      "29                                0                        0   \n",
      "31                                1                        0   \n",
      "33                                1                        0   \n",
      "35                                0                        0   \n",
      "36                                0                        0   \n",
      "37                                1                        0   \n",
      "38                                0                        0   \n",
      "39                                1                        0   \n",
      "40                                0                        0   \n",
      "41                                0                        0   \n",
      "44                                0                        0   \n",
      "45                                0                        0   \n",
      "50                                0                        1   \n",
      "51                                1                        0   \n",
      "...                             ...                      ...   \n",
      "39680                             0                        0   \n",
      "39681                             0                        0   \n",
      "39682                             0                        0   \n",
      "39683                             0                        0   \n",
      "39684                             0                        0   \n",
      "39685                             0                        0   \n",
      "39686                             0                        0   \n",
      "39687                             0                        0   \n",
      "39688                             0                        1   \n",
      "39689                             0                        0   \n",
      "39690                             0                        0   \n",
      "39691                             0                        0   \n",
      "39692                             0                        0   \n",
      "39693                             0                        0   \n",
      "39694                             0                        0   \n",
      "39695                             0                        0   \n",
      "39696                             0                        0   \n",
      "39697                             0                        0   \n",
      "39698                             0                        0   \n",
      "39699                             0                        0   \n",
      "39701                             0                        0   \n",
      "39702                             0                        0   \n",
      "39703                             0                        0   \n",
      "39705                             0                        0   \n",
      "39707                             0                        0   \n",
      "39708                             0                        0   \n",
      "39711                             0                        0   \n",
      "39712                             0                        0   \n",
      "39713                             0                        0   \n",
      "39716                             0                        0   \n",
      "\n",
      "       loan_status_Current  loan_status_Fully Paid  pymnt_plan_n  \n",
      "1                        0                       0             1  \n",
      "3                        0                       1             1  \n",
      "4                        1                       0             1  \n",
      "6                        0                       1             1  \n",
      "7                        0                       1             1  \n",
      "9                        0                       0             1  \n",
      "10                       0                       1             1  \n",
      "12                       0                       0             1  \n",
      "13                       0                       1             1  \n",
      "17                       0                       1             1  \n",
      "18                       0                       1             1  \n",
      "20                       0                       1             1  \n",
      "21                       0                       0             1  \n",
      "22                       0                       1             1  \n",
      "26                       0                       0             1  \n",
      "27                       0                       0             1  \n",
      "29                       0                       1             1  \n",
      "31                       0                       1             1  \n",
      "33                       0                       1             1  \n",
      "35                       0                       1             1  \n",
      "36                       0                       1             1  \n",
      "37                       0                       1             1  \n",
      "38                       0                       1             1  \n",
      "39                       1                       0             1  \n",
      "40                       0                       1             1  \n",
      "41                       0                       1             1  \n",
      "44                       0                       1             1  \n",
      "45                       0                       1             1  \n",
      "50                       0                       0             1  \n",
      "51                       0                       1             1  \n",
      "...                    ...                     ...           ...  \n",
      "39680                    0                       1             1  \n",
      "39681                    0                       1             1  \n",
      "39682                    0                       1             1  \n",
      "39683                    0                       1             1  \n",
      "39684                    0                       1             1  \n",
      "39685                    0                       1             1  \n",
      "39686                    0                       1             1  \n",
      "39687                    0                       1             1  \n",
      "39688                    0                       0             1  \n",
      "39689                    0                       1             1  \n",
      "39690                    0                       1             1  \n",
      "39691                    0                       1             1  \n",
      "39692                    0                       1             1  \n",
      "39693                    0                       1             1  \n",
      "39694                    0                       1             1  \n",
      "39695                    0                       1             1  \n",
      "39696                    0                       1             1  \n",
      "39697                    0                       1             1  \n",
      "39698                    0                       1             1  \n",
      "39699                    0                       1             1  \n",
      "39701                    0                       1             1  \n",
      "39702                    0                       1             1  \n",
      "39703                    0                       1             1  \n",
      "39705                    0                       1             1  \n",
      "39707                    0                       1             1  \n",
      "39708                    0                       1             1  \n",
      "39711                    0                       1             1  \n",
      "39712                    0                       1             1  \n",
      "39713                    0                       1             1  \n",
      "39716                    0                       1             1  \n",
      "\n",
      "[25173 rows x 471 columns]\n"
     ]
    }
   ],
   "source": [
    "print(data2)"
   ]
  },
  {
   "cell_type": "code",
   "execution_count": 62,
   "metadata": {},
   "outputs": [
    {
     "data": {
      "text/plain": [
       "(25173, 471)"
      ]
     },
     "execution_count": 62,
     "metadata": {},
     "output_type": "execute_result"
    }
   ],
   "source": [
    "data2.shape"
   ]
  },
  {
   "cell_type": "code",
   "execution_count": 63,
   "metadata": {
    "scrolled": true
   },
   "outputs": [],
   "source": [
    "from sklearn.linear_model import LogisticRegression\n",
    "from sklearn.linear_model import LinearRegression\n",
    "from sklearn.model_selection import train_test_split\n",
    "from sklearn.model_selection import KFold\n",
    "from sklearn.model_selection import cross_val_score\n",
    "from sklearn import model_selection\n",
    "from sklearn.tree import DecisionTreeClassifier\n",
    "from sklearn.neighbors import KNeighborsClassifier"
   ]
  },
  {
   "cell_type": "code",
   "execution_count": 64,
   "metadata": {},
   "outputs": [],
   "source": [
    "X_features = data[['member_id', 'loan_amnt', 'funded_amnt', 'funded_amnt_inv',\n",
    "       'installment', 'annual_inc', 'dti', 'delinq_2yrs',\n",
    "        'open_acc', 'pub_rec', 'revol_bal', 'total_acc',\n",
    "       'out_prncp', 'out_prncp_inv', 'total_pymnt', 'total_pymnt_inv',\n",
    "       'total_rec_prncp', 'total_rec_int', 'total_rec_late_fee', 'recoveries',\n",
    "       'collection_recovery_fee', 'last_pymnt_amnt', \n",
    "        'policy_code', 'acc_now_delinq', 'delinq_amnt',\n",
    "       'pub_rec_bankruptcies', 'tax_liens']].values"
   ]
  },
  {
   "cell_type": "code",
   "execution_count": 65,
   "metadata": {},
   "outputs": [],
   "source": [
    "Y_target = data['loan_status'].values\n"
   ]
  },
  {
   "cell_type": "code",
   "execution_count": 66,
   "metadata": {},
   "outputs": [],
   "source": [
    "X_train , X_test , Y_train ,Y_test =model_selection.train_test_split(X_features,Y_target,test_size = 0.2,random_state=42)"
   ]
  },
  {
   "cell_type": "code",
   "execution_count": 67,
   "metadata": {},
   "outputs": [
    {
     "name": "stderr",
     "output_type": "stream",
     "text": [
      "C:\\Users\\HP\\Miniconda3\\orange\\envs\\DL_ENV\\lib\\site-packages\\sklearn\\linear_model\\logistic.py:432: FutureWarning: Default solver will be changed to 'lbfgs' in 0.22. Specify a solver to silence this warning.\n",
      "  FutureWarning)\n",
      "C:\\Users\\HP\\Miniconda3\\orange\\envs\\DL_ENV\\lib\\site-packages\\sklearn\\linear_model\\logistic.py:469: FutureWarning: Default multi_class will be changed to 'auto' in 0.22. Specify the multi_class option to silence this warning.\n",
      "  \"this warning.\", FutureWarning)\n"
     ]
    },
    {
     "data": {
      "text/plain": [
       "LogisticRegression(C=1.0, class_weight=None, dual=False, fit_intercept=True,\n",
       "                   intercept_scaling=1, l1_ratio=None, max_iter=100,\n",
       "                   multi_class='warn', n_jobs=None, penalty='l2',\n",
       "                   random_state=None, solver='warn', tol=0.0001, verbose=0,\n",
       "                   warm_start=False)"
      ]
     },
     "execution_count": 67,
     "metadata": {},
     "output_type": "execute_result"
    }
   ],
   "source": [
    "linearmodel=LogisticRegression()\n",
    "linearmodel.fit(X_train,Y_train)"
   ]
  },
  {
   "cell_type": "raw",
   "metadata": {},
   "source": [
    "my_prediction = logistic_model.predict(X_test)"
   ]
  },
  {
   "cell_type": "code",
   "execution_count": 68,
   "metadata": {},
   "outputs": [],
   "source": [
    "my_prediction = linearmodel.predict(X_test)"
   ]
  },
  {
   "cell_type": "code",
   "execution_count": 69,
   "metadata": {},
   "outputs": [],
   "source": [
    "my_prediction = linearmodel.predict(X_test)"
   ]
  },
  {
   "cell_type": "code",
   "execution_count": 70,
   "metadata": {},
   "outputs": [
    {
     "name": "stdout",
     "output_type": "stream",
     "text": [
      "['Fully Paid' 'Fully Paid' 'Fully Paid' ... 'Fully Paid' 'Fully Paid'\n",
      " 'Fully Paid']\n"
     ]
    }
   ],
   "source": [
    "print(my_prediction)"
   ]
  },
  {
   "cell_type": "code",
   "execution_count": 71,
   "metadata": {},
   "outputs": [
    {
     "data": {
      "text/plain": [
       "array(['Charged Off', 'Current', 'Fully Paid'], dtype=object)"
      ]
     },
     "execution_count": 71,
     "metadata": {},
     "output_type": "execute_result"
    }
   ],
   "source": [
    "linearmodel.classes_"
   ]
  },
  {
   "cell_type": "code",
   "execution_count": null,
   "metadata": {},
   "outputs": [],
   "source": []
  },
  {
   "cell_type": "code",
   "execution_count": null,
   "metadata": {},
   "outputs": [],
   "source": []
  },
  {
   "cell_type": "code",
   "execution_count": null,
   "metadata": {},
   "outputs": [],
   "source": []
  },
  {
   "cell_type": "code",
   "execution_count": 72,
   "metadata": {},
   "outputs": [
    {
     "data": {
      "image/png": "[encoded data removed]",
      "text/plain": [
       "<Figure size 432x288 with 1 Axes>"
      ]
     },
     "metadata": {
      "needs_background": "light"
     },
     "output_type": "display_data"
    }
   ],
   "source": [
    "sns.countplot(x=\"loan_status\",data=data)\n",
    "plt.show()"
   ]
  },
  {
   "cell_type": "code",
   "execution_count": 73,
   "metadata": {},
   "outputs": [
    {
     "data": {
      "text/plain": [
       "<matplotlib.axes._subplots.AxesSubplot at 0x1fdf4509860>"
      ]
     },
     "execution_count": 73,
     "metadata": {},
     "output_type": "execute_result"
    },
    {
     "data": {
      "image/png": "[encoded data removed]",
      "text/plain": [
       "<Figure size 432x288 with 1 Axes>"
      ]
     },
     "metadata": {
      "needs_background": "light"
     },
     "output_type": "display_data"
    }
   ],
   "source": [
    "sns.countplot(x=\"home_ownership\",data=data)"
   ]
  },
  {
   "cell_type": "code",
   "execution_count": 74,
   "metadata": {},
   "outputs": [
    {
     "data": {
      "text/plain": [
       "<matplotlib.axes._subplots.AxesSubplot at 0x1fdf47caa20>"
      ]
     },
     "execution_count": 74,
     "metadata": {},
     "output_type": "execute_result"
    },
    {
     "data": {
      "image/png": "[encoded data removed]",
      "text/plain": [
       "<Figure size 432x288 with 1 Axes>"
      ]
     },
     "metadata": {
      "needs_background": "light"
     },
     "output_type": "display_data"
    }
   ],
   "source": [
    "sns.countplot(x=\"grade\",data= data)"
   ]
  },
  {
   "cell_type": "code",
   "execution_count": 75,
   "metadata": {},
   "outputs": [
    {
     "data": {
      "text/plain": [
       "<matplotlib.axes._subplots.AxesSubplot at 0x1fdf4c6be48>"
      ]
     },
     "execution_count": 75,
     "metadata": {},
     "output_type": "execute_result"
    },
    {
     "data": {
      "image/png": "[encoded data removed]",
      "text/plain": [
       "<Figure size 432x288 with 1 Axes>"
      ]
     },
     "metadata": {
      "needs_background": "light"
     },
     "output_type": "display_data"
    }
   ],
   "source": [
    "sns.countplot(x=\"term\",data= data)"
   ]
  },
  {
   "cell_type": "code",
   "execution_count": 76,
   "metadata": {},
   "outputs": [
    {
     "data": {
      "text/plain": [
       "<matplotlib.axes._subplots.AxesSubplot at 0x1fdf4cab438>"
      ]
     },
     "execution_count": 76,
     "metadata": {},
     "output_type": "execute_result"
    },
    {
     "data": {
      "image/png": "[encoded data removed]",
      "text/plain": [
       "<Figure size 432x288 with 1 Axes>"
      ]
     },
     "metadata": {
      "needs_background": "light"
     },
     "output_type": "display_data"
    }
   ],
   "source": [
    "sns.countplot(x=\"pymnt_plan\",data=data)"
   ]
  },
  {
   "cell_type": "code",
   "execution_count": 77,
   "metadata": {
    "scrolled": true
   },
   "outputs": [
    {
     "data": {
      "text/plain": [
       "<matplotlib.axes._subplots.AxesSubplot at 0x1fdf458ae80>"
      ]
     },
     "execution_count": 77,
     "metadata": {},
     "output_type": "execute_result"
    },
    {
     "data": {
      "image/png": "[encoded data removed]",
      "text/plain": [
       "<Figure size 432x288 with 1 Axes>"
      ]
     },
     "metadata": {
      "needs_background": "light"
     },
     "output_type": "display_data"
    }
   ],
   "source": [
    "sns.countplot(x=\"verification_status\",data=data)"
   ]
  },
  {
   "cell_type": "code",
   "execution_count": 78,
   "metadata": {},
   "outputs": [
    {
     "name": "stderr",
     "output_type": "stream",
     "text": [
      "C:\\Users\\HP\\Miniconda3\\orange\\envs\\DL_ENV\\lib\\site-packages\\ipykernel_launcher.py:1: SettingWithCopyWarning: \n",
      "A value is trying to be set on a copy of a slice from a DataFrame\n",
      "\n",
      "See the caveats in the documentation: http://pandas.pydata.org/pandas-docs/stable/indexing.html#indexing-view-versus-copy\n",
      "  \"\"\"Entry point for launching an IPython kernel.\n",
      "C:\\Users\\HP\\Miniconda3\\orange\\envs\\DL_ENV\\lib\\site-packages\\ipykernel_launcher.py:2: SettingWithCopyWarning: \n",
      "A value is trying to be set on a copy of a slice from a DataFrame\n",
      "\n",
      "See the caveats in the documentation: http://pandas.pydata.org/pandas-docs/stable/indexing.html#indexing-view-versus-copy\n",
      "  \n",
      "C:\\Users\\HP\\Miniconda3\\orange\\envs\\DL_ENV\\lib\\site-packages\\ipykernel_launcher.py:3: SettingWithCopyWarning: \n",
      "A value is trying to be set on a copy of a slice from a DataFrame\n",
      "\n",
      "See the caveats in the documentation: http://pandas.pydata.org/pandas-docs/stable/indexing.html#indexing-view-versus-copy\n",
      "  This is separate from the ipykernel package so we can avoid doing imports until\n",
      "C:\\Users\\HP\\Miniconda3\\orange\\envs\\DL_ENV\\lib\\site-packages\\ipykernel_launcher.py:6: SettingWithCopyWarning: \n",
      "A value is trying to be set on a copy of a slice from a DataFrame\n",
      "\n",
      "See the caveats in the documentation: http://pandas.pydata.org/pandas-docs/stable/indexing.html#indexing-view-versus-copy\n",
      "  \n",
      "C:\\Users\\HP\\Miniconda3\\orange\\envs\\DL_ENV\\lib\\site-packages\\ipykernel_launcher.py:7: SettingWithCopyWarning: \n",
      "A value is trying to be set on a copy of a slice from a DataFrame\n",
      "\n",
      "See the caveats in the documentation: http://pandas.pydata.org/pandas-docs/stable/indexing.html#indexing-view-versus-copy\n",
      "  import sys\n",
      "C:\\Users\\HP\\Miniconda3\\orange\\envs\\DL_ENV\\lib\\site-packages\\ipykernel_launcher.py:9: SettingWithCopyWarning: \n",
      "A value is trying to be set on a copy of a slice from a DataFrame\n",
      "\n",
      "See the caveats in the documentation: http://pandas.pydata.org/pandas-docs/stable/indexing.html#indexing-view-versus-copy\n",
      "  if __name__ == '__main__':\n",
      "C:\\Users\\HP\\Miniconda3\\orange\\envs\\DL_ENV\\lib\\site-packages\\ipykernel_launcher.py:10: SettingWithCopyWarning: \n",
      "A value is trying to be set on a copy of a slice from a DataFrame\n",
      "\n",
      "See the caveats in the documentation: http://pandas.pydata.org/pandas-docs/stable/indexing.html#indexing-view-versus-copy\n",
      "  # Remove the CWD from sys.path while we load stuff.\n",
      "C:\\Users\\HP\\Miniconda3\\orange\\envs\\DL_ENV\\lib\\site-packages\\ipykernel_launcher.py:11: SettingWithCopyWarning: \n",
      "A value is trying to be set on a copy of a slice from a DataFrame\n",
      "\n",
      "See the caveats in the documentation: http://pandas.pydata.org/pandas-docs/stable/indexing.html#indexing-view-versus-copy\n",
      "  # This is added back by InteractiveShellApp.init_path()\n",
      "C:\\Users\\HP\\Miniconda3\\orange\\envs\\DL_ENV\\lib\\site-packages\\ipykernel_launcher.py:12: SettingWithCopyWarning: \n",
      "A value is trying to be set on a copy of a slice from a DataFrame\n",
      "\n",
      "See the caveats in the documentation: http://pandas.pydata.org/pandas-docs/stable/indexing.html#indexing-view-versus-copy\n",
      "  if sys.path[0] == '':\n",
      "C:\\Users\\HP\\Miniconda3\\orange\\envs\\DL_ENV\\lib\\site-packages\\ipykernel_launcher.py:14: SettingWithCopyWarning: \n",
      "A value is trying to be set on a copy of a slice from a DataFrame\n",
      "\n",
      "See the caveats in the documentation: http://pandas.pydata.org/pandas-docs/stable/indexing.html#indexing-view-versus-copy\n",
      "  \n",
      "C:\\Users\\HP\\Miniconda3\\orange\\envs\\DL_ENV\\lib\\site-packages\\ipykernel_launcher.py:15: SettingWithCopyWarning: \n",
      "A value is trying to be set on a copy of a slice from a DataFrame\n",
      "\n",
      "See the caveats in the documentation: http://pandas.pydata.org/pandas-docs/stable/indexing.html#indexing-view-versus-copy\n",
      "  from ipykernel import kernelapp as app\n",
      "C:\\Users\\HP\\Miniconda3\\orange\\envs\\DL_ENV\\lib\\site-packages\\ipykernel_launcher.py:17: SettingWithCopyWarning: \n",
      "A value is trying to be set on a copy of a slice from a DataFrame\n",
      "\n",
      "See the caveats in the documentation: http://pandas.pydata.org/pandas-docs/stable/indexing.html#indexing-view-versus-copy\n",
      "C:\\Users\\HP\\Miniconda3\\orange\\envs\\DL_ENV\\lib\\site-packages\\ipykernel_launcher.py:21: SettingWithCopyWarning: \n",
      "A value is trying to be set on a copy of a slice from a DataFrame\n",
      "\n",
      "See the caveats in the documentation: http://pandas.pydata.org/pandas-docs/stable/indexing.html#indexing-view-versus-copy\n",
      "C:\\Users\\HP\\Miniconda3\\orange\\envs\\DL_ENV\\lib\\site-packages\\ipykernel_launcher.py:22: SettingWithCopyWarning: \n",
      "A value is trying to be set on a copy of a slice from a DataFrame\n",
      "\n",
      "See the caveats in the documentation: http://pandas.pydata.org/pandas-docs/stable/indexing.html#indexing-view-versus-copy\n",
      "C:\\Users\\HP\\Miniconda3\\orange\\envs\\DL_ENV\\lib\\site-packages\\ipykernel_launcher.py:23: SettingWithCopyWarning: \n",
      "A value is trying to be set on a copy of a slice from a DataFrame\n",
      "\n",
      "See the caveats in the documentation: http://pandas.pydata.org/pandas-docs/stable/indexing.html#indexing-view-versus-copy\n",
      "C:\\Users\\HP\\Miniconda3\\orange\\envs\\DL_ENV\\lib\\site-packages\\ipykernel_launcher.py:24: SettingWithCopyWarning: \n",
      "A value is trying to be set on a copy of a slice from a DataFrame\n",
      "\n",
      "See the caveats in the documentation: http://pandas.pydata.org/pandas-docs/stable/indexing.html#indexing-view-versus-copy\n",
      "C:\\Users\\HP\\Miniconda3\\orange\\envs\\DL_ENV\\lib\\site-packages\\ipykernel_launcher.py:25: SettingWithCopyWarning: \n",
      "A value is trying to be set on a copy of a slice from a DataFrame\n",
      "\n",
      "See the caveats in the documentation: http://pandas.pydata.org/pandas-docs/stable/indexing.html#indexing-view-versus-copy\n",
      "C:\\Users\\HP\\Miniconda3\\orange\\envs\\DL_ENV\\lib\\site-packages\\ipykernel_launcher.py:27: SettingWithCopyWarning: \n",
      "A value is trying to be set on a copy of a slice from a DataFrame\n",
      "\n",
      "See the caveats in the documentation: http://pandas.pydata.org/pandas-docs/stable/indexing.html#indexing-view-versus-copy\n",
      "C:\\Users\\HP\\Miniconda3\\orange\\envs\\DL_ENV\\lib\\site-packages\\ipykernel_launcher.py:28: SettingWithCopyWarning: \n",
      "A value is trying to be set on a copy of a slice from a DataFrame\n",
      "\n",
      "See the caveats in the documentation: http://pandas.pydata.org/pandas-docs/stable/indexing.html#indexing-view-versus-copy\n"
     ]
    }
   ],
   "source": [
    "data[\"verification_status\"][data[\"verification_status\"] == \"Source Verified\"] = 0\n",
    "data[\"verification_status\"][data[\"verification_status\"] == \"Not Verified\"] = 1\n",
    "data[\"verification_status\"][data[\"verification_status\"] == \"Verified\"] = 2\n",
    "\n",
    "\n",
    "data[\"term\"][data[\"term\"] == \"36months\"] = 0\n",
    "data[\"term\"][data[\"term\"] == \"60months\"] = 1\n",
    "\n",
    "data[\"grade\"][data[\"grade\"] == \"A\"] = 0\n",
    "data[\"grade\"][data[\"grade\"] == \"B\"] = 1\n",
    "data[\"grade\"][data[\"grade\"] == \"C\"] = 2\n",
    "data[\"grade\"][data[\"grade\"] == \"D\"] = 3\n",
    "\n",
    "data[\"grade\"][data[\"grade\"] == \"E\"] = 4\n",
    "data[\"grade\"][data[\"grade\"] == \"F\"] = 5\n",
    "\n",
    "data[\"grade\"][data[\"grade\"] == \"G\"] = 6\n",
    "\n",
    "\n",
    "\n",
    "data[\"home_ownership\"][data[\"home_ownership\"] == \"RENT\"] = 0\n",
    "data[\"home_ownership\"][data[\"home_ownership\"] == \"MORTGAGE\"] = 1\n",
    "data[\"home_ownership\"][data[\"home_ownership\"] == \"OWN\"] = 2\n",
    "data[\"home_ownership\"][data[\"home_ownership\"] == \"OTHER\"] = 3\n",
    "data[\"home_ownership\"][data[\"home_ownership\"] == \"NONE\"] = 4\n",
    "\n",
    "data[\"pymnt_plan\"][data[\"pymnt_plan\"] == \"n\"] = 0\n",
    "data[\"pymnt_plan\"][data[\"pymnt_plan\"] == \"y\"] = 1\n"
   ]
  },
  {
   "cell_type": "code",
   "execution_count": 79,
   "metadata": {},
   "outputs": [],
   "source": [
    "model4=KNeighborsClassifier(n_neighbors=5)\n",
    "X_features_new=data[[ 'grade', 'home_ownership', 'verification_status','pymnt_plan','loan_amnt', 'funded_amnt', 'funded_amnt_inv', 'installment', 'annual_inc', 'dti', 'delinq_2yrs',  'open_acc', 'pub_rec', 'revol_bal', 'total_acc', 'out_prncp', 'out_prncp_inv', 'total_pymnt', 'total_pymnt_inv', 'total_rec_prncp', 'total_rec_int', 'total_rec_late_fee', 'recoveries', 'collection_recovery_fee', 'last_pymnt_amnt',  'policy_code', 'acc_now_delinq', 'delinq_amnt', 'pub_rec_bankruptcies', 'tax_liens']].values\n",
    "Y_new_target=data['loan_status'].values\n",
    "X_train , X_test , Y_train ,Y_test =model_selection.train_test_split(X_features_new,Y_new_target,test_size = 0.2,random_state=42)"
   ]
  },
  {
   "cell_type": "code",
   "execution_count": 80,
   "metadata": {},
   "outputs": [],
   "source": [
    "model=model4.fit(X_train,Y_train)\n",
    "Y_predictions=model4.predict(X_test)"
   ]
  },
  {
   "cell_type": "code",
   "execution_count": 81,
   "metadata": {},
   "outputs": [
    {
     "data": {
      "text/plain": [
       "0    12181\n",
       "1    11110\n",
       "2     1785\n",
       "3       96\n",
       "4        1\n",
       "Name: home_ownership, dtype: int64"
      ]
     },
     "execution_count": 81,
     "metadata": {},
     "output_type": "execute_result"
    }
   ],
   "source": [
    "data['home_ownership'].value_counts()"
   ]
  },
  {
   "cell_type": "code",
   "execution_count": 82,
   "metadata": {},
   "outputs": [
    {
     "name": "stdout",
     "output_type": "stream",
     "text": [
      "['Fully Paid' 'Fully Paid' 'Fully Paid' ... 'Fully Paid' 'Fully Paid'\n",
      " 'Fully Paid']\n"
     ]
    }
   ],
   "source": [
    "print(Y_predictions)\n",
    "from sklearn import metrics"
   ]
  },
  {
   "cell_type": "code",
   "execution_count": 83,
   "metadata": {},
   "outputs": [
    {
     "name": "stdout",
     "output_type": "stream",
     "text": [
      "Accuracy: 0.9392254220456803\n"
     ]
    }
   ],
   "source": [
    "m_acc = metrics.accuracy_score(Y_test, Y_predictions)\n",
    "\n",
    "print(\"Accuracy:\",m_acc)"
   ]
  },
  {
   "cell_type": "code",
   "execution_count": 84,
   "metadata": {},
   "outputs": [
    {
     "data": {
      "text/plain": [
       "0    25173\n",
       "Name: pymnt_plan, dtype: int64"
      ]
     },
     "execution_count": 84,
     "metadata": {},
     "output_type": "execute_result"
    }
   ],
   "source": [
    "data['pymnt_plan'].value_counts()"
   ]
  },
  {
   "cell_type": "code",
   "execution_count": 85,
   "metadata": {},
   "outputs": [],
   "source": [
    "X_features_new=data[[ 'grade', 'home_ownership', 'verification_status','pymnt_plan','loan_amnt', 'funded_amnt', 'funded_amnt_inv', 'installment', 'annual_inc', 'dti', 'delinq_2yrs', 'open_acc', 'pub_rec', 'revol_bal', 'total_acc', 'out_prncp', 'out_prncp_inv', 'total_pymnt', 'total_pymnt_inv', 'total_rec_prncp', 'total_rec_int', 'total_rec_late_fee', 'recoveries', 'collection_recovery_fee', 'last_pymnt_amnt', 'policy_code', 'acc_now_delinq', 'delinq_amnt', 'pub_rec_bankruptcies', 'tax_liens']].values\n",
    "Y_new_target=data['loan_status'].values\n",
    "model5=DecisionTreeClassifier(max_depth=13)\n",
    "X_train , X_test , Y_train ,Y_test =model_selection.train_test_split(X_features_new,Y_new_target,test_size = 0.2,random_state=42)"
   ]
  },
  {
   "cell_type": "code",
   "execution_count": 86,
   "metadata": {},
   "outputs": [
    {
     "data": {
      "text/plain": [
       "DecisionTreeClassifier(class_weight=None, criterion='gini', max_depth=13,\n",
       "                       max_features=None, max_leaf_nodes=None,\n",
       "                       min_impurity_decrease=0.0, min_impurity_split=None,\n",
       "                       min_samples_leaf=1, min_samples_split=2,\n",
       "                       min_weight_fraction_leaf=0.0, presort=False,\n",
       "                       random_state=None, splitter='best')"
      ]
     },
     "execution_count": 86,
     "metadata": {},
     "output_type": "execute_result"
    }
   ],
   "source": [
    "model5.fit(X_train,Y_train)"
   ]
  },
  {
   "cell_type": "code",
   "execution_count": 87,
   "metadata": {},
   "outputs": [],
   "source": [
    "Y_predictions1=model5.predict(X_test)"
   ]
  },
  {
   "cell_type": "code",
   "execution_count": 88,
   "metadata": {},
   "outputs": [
    {
     "name": "stdout",
     "output_type": "stream",
     "text": [
      "Accuracy: 0.9950347567030785\n"
     ]
    }
   ],
   "source": [
    "m_acc = metrics.accuracy_score(Y_test, Y_predictions1)\n",
    "\n",
    "print(\"Accuracy:\",m_acc)"
   ]
  },
  {
   "cell_type": "code",
   "execution_count": 89,
   "metadata": {},
   "outputs": [],
   "source": [
    "from sklearn.ensemble import RandomForestClassifier\n",
    "X_features_new=data[[ 'grade', 'home_ownership', 'verification_status','pymnt_plan','loan_amnt', 'funded_amnt', 'funded_amnt_inv', 'installment', 'annual_inc', 'dti', 'delinq_2yrs',  'open_acc', 'pub_rec', 'revol_bal', 'total_acc', 'out_prncp', 'out_prncp_inv', 'total_pymnt', 'total_pymnt_inv', 'total_rec_prncp', 'total_rec_int', 'total_rec_late_fee', 'recoveries', 'collection_recovery_fee', 'last_pymnt_amnt', 'policy_code', 'acc_now_delinq', 'delinq_amnt', 'pub_rec_bankruptcies', 'tax_liens']].values\n",
    "Y_new_target=data['loan_status'].values\n",
    "model5=DecisionTreeClassifier(max_depth=13)\n",
    "X_train , X_test , Y_train ,Y_test =model_selection.train_test_split(X_features_new,Y_new_target,test_size = 0.2,random_state=42)"
   ]
  },
  {
   "cell_type": "code",
   "execution_count": 90,
   "metadata": {},
   "outputs": [
    {
     "data": {
      "text/plain": [
       "RandomForestClassifier(bootstrap=True, class_weight=None, criterion='gini',\n",
       "                       max_depth=10, max_features='auto', max_leaf_nodes=None,\n",
       "                       min_impurity_decrease=0.0, min_impurity_split=None,\n",
       "                       min_samples_leaf=1, min_samples_split=2,\n",
       "                       min_weight_fraction_leaf=0.0, n_estimators=100,\n",
       "                       n_jobs=None, oob_score=False, random_state=1, verbose=0,\n",
       "                       warm_start=False)"
      ]
     },
     "execution_count": 90,
     "metadata": {},
     "output_type": "execute_result"
    }
   ],
   "source": [
    "forest = RandomForestClassifier(max_depth = 10, min_samples_split=2, n_estimators = 100, random_state = 1)\n",
    "forest.fit(X_train,Y_train)"
   ]
  },
  {
   "cell_type": "code",
   "execution_count": 91,
   "metadata": {},
   "outputs": [],
   "source": [
    " Y_predictions2 = forest.predict(X_test)"
   ]
  },
  {
   "cell_type": "code",
   "execution_count": 92,
   "metadata": {},
   "outputs": [],
   "source": [
    "m_acc = metrics.accuracy_score(Y_test,Y_predictions2)"
   ]
  },
  {
   "cell_type": "code",
   "execution_count": 93,
   "metadata": {},
   "outputs": [
    {
     "name": "stdout",
     "output_type": "stream",
     "text": [
      "Accuracy: 0.9930486593843099\n"
     ]
    }
   ],
   "source": [
    "print(\"Accuracy:\",m_acc)"
   ]
  },
  {
   "cell_type": "code",
   "execution_count": 94,
   "metadata": {},
   "outputs": [
    {
     "name": "stdout",
     "output_type": "stream",
     "text": [
      "              precision    recall  f1-score   support\n",
      "\n",
      " Charged Off       1.00      0.95      0.97       693\n",
      "     Current       1.00      1.00      1.00       141\n",
      "  Fully Paid       0.99      1.00      1.00      4201\n",
      "\n",
      "    accuracy                           0.99      5035\n",
      "   macro avg       1.00      0.98      0.99      5035\n",
      "weighted avg       0.99      0.99      0.99      5035\n",
      "\n"
     ]
    }
   ],
   "source": [
    "print(metrics.classification_report(y_true=Y_test,\n",
    "                              y_pred=Y_predictions2) )"
   ]
  },
  {
   "cell_type": "code",
   "execution_count": 95,
   "metadata": {},
   "outputs": [],
   "source": [
    "from sklearn.metrics import confusion_matrix\n",
    "confusion_matrix = confusion_matrix(Y_predictions2,Y_test)"
   ]
  },
  {
   "cell_type": "code",
   "execution_count": 96,
   "metadata": {},
   "outputs": [
    {
     "name": "stdout",
     "output_type": "stream",
     "text": [
      "[[ 658    0    0]\n",
      " [   0  141    0]\n",
      " [  35    0 4201]]\n"
     ]
    }
   ],
   "source": [
    "print(confusion_matrix)"
   ]
  },
  {
   "cell_type": "code",
   "execution_count": 97,
   "metadata": {},
   "outputs": [
    {
     "name": "stdout",
     "output_type": "stream",
     "text": [
      "[0.99404289 0.99563145 0.99285147 0.99523431 0.99364575 0.99205719\n",
      " 0.99245133 0.99324324 0.99205087 0.9809221 ]\n"
     ]
    }
   ],
   "source": [
    "from sklearn.model_selection import KFold\n",
    "from sklearn.model_selection import StratifiedKFold\n",
    "from sklearn.model_selection import cross_val_score\n",
    "print(cross_val_score(forest, X_features_new, Y_new_target,cv=10))"
   ]
  },
  {
   "cell_type": "code",
   "execution_count": 98,
   "metadata": {},
   "outputs": [],
   "source": [
    "from sklearn.model_selection import learning_curve\n",
    "from sklearn.model_selection import ShuffleSplit\n"
   ]
  },
  {
   "cell_type": "code",
   "execution_count": 99,
   "metadata": {},
   "outputs": [],
   "source": [
    "def plot_learning_curve(estimator, title, X_features_new, Y_new_target, ylim=None, cv=None,n_jobs=None, train_sizes=np.linspace(.1, 1.0, 5)):\n",
    "  \n",
    "    plt.figure()\n",
    "    plt.title(title)\n",
    "    if ylim is not None:\n",
    "        plt.ylim(*ylim)\n",
    "    plt.xlabel(\"Training examples\")\n",
    "    plt.ylabel(\"Score\")\n",
    "    train_sizes, train_scores, test_scores = learning_curve(estimator, X_features_new, Y_new_target, cv=cv, n_jobs=n_jobs, train_sizes=train_sizes)\n",
    "    train_scores_mean = np.mean(train_scores, axis=1)\n",
    "    train_scores_std = np.std(train_scores, axis=1)\n",
    "    test_scores_mean = np.mean(test_scores, axis=1)\n",
    "    test_scores_std = np.std(test_scores, axis=1)\n",
    "    plt.grid()\n",
    "\n",
    "    plt.fill_between(train_sizes, train_scores_mean - train_scores_std,\n",
    "                     train_scores_mean + train_scores_std, alpha=0.1,\n",
    "                     color=\"r\")\n",
    "    plt.fill_between(train_sizes, test_scores_mean - test_scores_std,\n",
    "                     test_scores_mean + test_scores_std, alpha=0.1, color=\"g\")\n",
    "    plt.plot(train_sizes, train_scores_mean, 'o-', color=\"r\",\n",
    "             label=\"Training score\")\n",
    "    plt.plot(train_sizes, test_scores_mean, 'o-', color=\"g\",\n",
    "             label=\"Cross-validation score\")\n",
    "\n",
    "    plt.legend(loc=\"best\")\n",
    "\n"
   ]
  },
  {
   "cell_type": "code",
   "execution_count": 105,
   "metadata": {},
   "outputs": [
    {
     "name": "stderr",
     "output_type": "stream",
     "text": [
      "C:\\Users\\HP\\Miniconda3\\orange\\envs\\DL_ENV\\lib\\site-packages\\ipykernel_launcher.py:6: UserWarning: Attempting to set identical bottom == top == 1 results in singular transformations; automatically expanding.\n",
      "  \n"
     ]
    },
    {
     "data": {
      "image/png": "[encoded data removed]",
      "text/plain": [
       "<Figure size 432x288 with 1 Axes>"
      ]
     },
     "metadata": {
      "needs_background": "light"
     },
     "output_type": "display_data"
    }
   ],
   "source": [
    "title = \"Learning Curves\"\n",
    "cv = ShuffleSplit(n_splits=1, test_size=0.25, random_state=12)\n",
    "estimator = forest\n",
    "plot_learning_curve(estimator, title, X_features_new, Y_new_target, (1,1), cv=cv, n_jobs=10)\n",
    "\n",
    "plt.show()"
   ]
  },
  {
   "cell_type": "code",
   "execution_count": 235,
   "metadata": {},
   "outputs": [
    {
     "data": {
      "text/html": [
       "<div>\n",
       "<style scoped>\n",
       "    .dataframe tbody tr th:only-of-type {\n",
       "        vertical-align: middle;\n",
       "    }\n",
       "\n",
       "    .dataframe tbody tr th {\n",
       "        vertical-align: top;\n",
       "    }\n",
       "\n",
       "    .dataframe thead th {\n",
       "        text-align: right;\n",
       "    }\n",
       "</style>\n",
       "<table border=\"1\" class=\"dataframe\">\n",
       "  <thead>\n",
       "    <tr style=\"text-align: right;\">\n",
       "      <th></th>\n",
       "      <th>id</th>\n",
       "      <th>member_id</th>\n",
       "      <th>loan_amnt</th>\n",
       "      <th>funded_amnt</th>\n",
       "      <th>funded_amnt_inv</th>\n",
       "      <th>installment</th>\n",
       "      <th>annual_inc</th>\n",
       "      <th>dti</th>\n",
       "      <th>delinq_2yrs</th>\n",
       "      <th>open_acc</th>\n",
       "      <th>...</th>\n",
       "      <th>total_rec_int</th>\n",
       "      <th>total_rec_late_fee</th>\n",
       "      <th>recoveries</th>\n",
       "      <th>collection_recovery_fee</th>\n",
       "      <th>last_pymnt_amnt</th>\n",
       "      <th>policy_code</th>\n",
       "      <th>acc_now_delinq</th>\n",
       "      <th>delinq_amnt</th>\n",
       "      <th>pub_rec_bankruptcies</th>\n",
       "      <th>tax_liens</th>\n",
       "    </tr>\n",
       "  </thead>\n",
       "  <tbody>\n",
       "    <tr>\n",
       "      <th>id</th>\n",
       "      <td>1.000000</td>\n",
       "      <td>0.993207</td>\n",
       "      <td>0.184529</td>\n",
       "      <td>0.193145</td>\n",
       "      <td>0.317277</td>\n",
       "      <td>0.104042</td>\n",
       "      <td>0.021406</td>\n",
       "      <td>0.108830</td>\n",
       "      <td>-0.012797</td>\n",
       "      <td>0.026780</td>\n",
       "      <td>...</td>\n",
       "      <td>0.212690</td>\n",
       "      <td>-0.067123</td>\n",
       "      <td>0.039939</td>\n",
       "      <td>-0.012171</td>\n",
       "      <td>0.157421</td>\n",
       "      <td>NaN</td>\n",
       "      <td>NaN</td>\n",
       "      <td>NaN</td>\n",
       "      <td>0.002279</td>\n",
       "      <td>NaN</td>\n",
       "    </tr>\n",
       "    <tr>\n",
       "      <th>member_id</th>\n",
       "      <td>0.993207</td>\n",
       "      <td>1.000000</td>\n",
       "      <td>0.185373</td>\n",
       "      <td>0.193236</td>\n",
       "      <td>0.329312</td>\n",
       "      <td>0.100886</td>\n",
       "      <td>0.022307</td>\n",
       "      <td>0.110671</td>\n",
       "      <td>-0.013267</td>\n",
       "      <td>0.024352</td>\n",
       "      <td>...</td>\n",
       "      <td>0.214147</td>\n",
       "      <td>-0.069040</td>\n",
       "      <td>0.038148</td>\n",
       "      <td>-0.013301</td>\n",
       "      <td>0.158874</td>\n",
       "      <td>NaN</td>\n",
       "      <td>NaN</td>\n",
       "      <td>NaN</td>\n",
       "      <td>0.002715</td>\n",
       "      <td>NaN</td>\n",
       "    </tr>\n",
       "    <tr>\n",
       "      <th>loan_amnt</th>\n",
       "      <td>0.184529</td>\n",
       "      <td>0.185373</td>\n",
       "      <td>1.000000</td>\n",
       "      <td>0.978639</td>\n",
       "      <td>0.920073</td>\n",
       "      <td>0.924054</td>\n",
       "      <td>0.284073</td>\n",
       "      <td>0.075659</td>\n",
       "      <td>-0.029061</td>\n",
       "      <td>0.171066</td>\n",
       "      <td>...</td>\n",
       "      <td>0.725120</td>\n",
       "      <td>0.042704</td>\n",
       "      <td>0.134618</td>\n",
       "      <td>0.072550</td>\n",
       "      <td>0.437418</td>\n",
       "      <td>NaN</td>\n",
       "      <td>NaN</td>\n",
       "      <td>NaN</td>\n",
       "      <td>-0.029922</td>\n",
       "      <td>NaN</td>\n",
       "    </tr>\n",
       "    <tr>\n",
       "      <th>funded_amnt</th>\n",
       "      <td>0.193145</td>\n",
       "      <td>0.193236</td>\n",
       "      <td>0.978639</td>\n",
       "      <td>1.000000</td>\n",
       "      <td>0.940629</td>\n",
       "      <td>0.953626</td>\n",
       "      <td>0.276885</td>\n",
       "      <td>0.075811</td>\n",
       "      <td>-0.029938</td>\n",
       "      <td>0.169249</td>\n",
       "      <td>...</td>\n",
       "      <td>0.735357</td>\n",
       "      <td>0.044754</td>\n",
       "      <td>0.135598</td>\n",
       "      <td>0.074341</td>\n",
       "      <td>0.440716</td>\n",
       "      <td>NaN</td>\n",
       "      <td>NaN</td>\n",
       "      <td>NaN</td>\n",
       "      <td>-0.031508</td>\n",
       "      <td>NaN</td>\n",
       "    </tr>\n",
       "    <tr>\n",
       "      <th>funded_amnt_inv</th>\n",
       "      <td>0.317277</td>\n",
       "      <td>0.329312</td>\n",
       "      <td>0.920073</td>\n",
       "      <td>0.940629</td>\n",
       "      <td>1.000000</td>\n",
       "      <td>0.878626</td>\n",
       "      <td>0.257126</td>\n",
       "      <td>0.088432</td>\n",
       "      <td>-0.039646</td>\n",
       "      <td>0.151346</td>\n",
       "      <td>...</td>\n",
       "      <td>0.724134</td>\n",
       "      <td>0.019657</td>\n",
       "      <td>0.119376</td>\n",
       "      <td>0.057609</td>\n",
       "      <td>0.427991</td>\n",
       "      <td>NaN</td>\n",
       "      <td>NaN</td>\n",
       "      <td>NaN</td>\n",
       "      <td>-0.034390</td>\n",
       "      <td>NaN</td>\n",
       "    </tr>\n",
       "    <tr>\n",
       "      <th>installment</th>\n",
       "      <td>0.104042</td>\n",
       "      <td>0.100886</td>\n",
       "      <td>0.924054</td>\n",
       "      <td>0.953626</td>\n",
       "      <td>0.878626</td>\n",
       "      <td>1.000000</td>\n",
       "      <td>0.279420</td>\n",
       "      <td>0.061567</td>\n",
       "      <td>-0.017266</td>\n",
       "      <td>0.167626</td>\n",
       "      <td>...</td>\n",
       "      <td>0.628368</td>\n",
       "      <td>0.057875</td>\n",
       "      <td>0.117373</td>\n",
       "      <td>0.077139</td>\n",
       "      <td>0.385157</td>\n",
       "      <td>NaN</td>\n",
       "      <td>NaN</td>\n",
       "      <td>NaN</td>\n",
       "      <td>-0.028320</td>\n",
       "      <td>NaN</td>\n",
       "    </tr>\n",
       "    <tr>\n",
       "      <th>annual_inc</th>\n",
       "      <td>0.021406</td>\n",
       "      <td>0.022307</td>\n",
       "      <td>0.284073</td>\n",
       "      <td>0.276885</td>\n",
       "      <td>0.257126</td>\n",
       "      <td>0.279420</td>\n",
       "      <td>1.000000</td>\n",
       "      <td>-0.133408</td>\n",
       "      <td>0.027504</td>\n",
       "      <td>0.173688</td>\n",
       "      <td>...</td>\n",
       "      <td>0.193821</td>\n",
       "      <td>0.003971</td>\n",
       "      <td>0.028469</td>\n",
       "      <td>0.023410</td>\n",
       "      <td>0.136788</td>\n",
       "      <td>NaN</td>\n",
       "      <td>NaN</td>\n",
       "      <td>NaN</td>\n",
       "      <td>-0.012549</td>\n",
       "      <td>NaN</td>\n",
       "    </tr>\n",
       "    <tr>\n",
       "      <th>dti</th>\n",
       "      <td>0.108830</td>\n",
       "      <td>0.110671</td>\n",
       "      <td>0.075659</td>\n",
       "      <td>0.075811</td>\n",
       "      <td>0.088432</td>\n",
       "      <td>0.061567</td>\n",
       "      <td>-0.133408</td>\n",
       "      <td>1.000000</td>\n",
       "      <td>-0.039418</td>\n",
       "      <td>0.282220</td>\n",
       "      <td>...</td>\n",
       "      <td>0.112924</td>\n",
       "      <td>-0.014999</td>\n",
       "      <td>0.022953</td>\n",
       "      <td>0.005861</td>\n",
       "      <td>0.010401</td>\n",
       "      <td>NaN</td>\n",
       "      <td>NaN</td>\n",
       "      <td>NaN</td>\n",
       "      <td>0.001316</td>\n",
       "      <td>NaN</td>\n",
       "    </tr>\n",
       "    <tr>\n",
       "      <th>delinq_2yrs</th>\n",
       "      <td>-0.012797</td>\n",
       "      <td>-0.013267</td>\n",
       "      <td>-0.029061</td>\n",
       "      <td>-0.029938</td>\n",
       "      <td>-0.039646</td>\n",
       "      <td>-0.017266</td>\n",
       "      <td>0.027504</td>\n",
       "      <td>-0.039418</td>\n",
       "      <td>1.000000</td>\n",
       "      <td>0.012625</td>\n",
       "      <td>...</td>\n",
       "      <td>0.031309</td>\n",
       "      <td>0.037425</td>\n",
       "      <td>0.008707</td>\n",
       "      <td>0.015373</td>\n",
       "      <td>-0.009016</td>\n",
       "      <td>NaN</td>\n",
       "      <td>NaN</td>\n",
       "      <td>NaN</td>\n",
       "      <td>0.003815</td>\n",
       "      <td>NaN</td>\n",
       "    </tr>\n",
       "    <tr>\n",
       "      <th>open_acc</th>\n",
       "      <td>0.026780</td>\n",
       "      <td>0.024352</td>\n",
       "      <td>0.171066</td>\n",
       "      <td>0.169249</td>\n",
       "      <td>0.151346</td>\n",
       "      <td>0.167626</td>\n",
       "      <td>0.173688</td>\n",
       "      <td>0.282220</td>\n",
       "      <td>0.012625</td>\n",
       "      <td>1.000000</td>\n",
       "      <td>...</td>\n",
       "      <td>0.114793</td>\n",
       "      <td>-0.018382</td>\n",
       "      <td>0.019624</td>\n",
       "      <td>0.009434</td>\n",
       "      <td>0.072525</td>\n",
       "      <td>NaN</td>\n",
       "      <td>NaN</td>\n",
       "      <td>NaN</td>\n",
       "      <td>0.009923</td>\n",
       "      <td>NaN</td>\n",
       "    </tr>\n",
       "    <tr>\n",
       "      <th>pub_rec</th>\n",
       "      <td>-0.016525</td>\n",
       "      <td>-0.016494</td>\n",
       "      <td>-0.052099</td>\n",
       "      <td>-0.052513</td>\n",
       "      <td>-0.055778</td>\n",
       "      <td>-0.047136</td>\n",
       "      <td>-0.016968</td>\n",
       "      <td>-0.007825</td>\n",
       "      <td>0.013822</td>\n",
       "      <td>0.002931</td>\n",
       "      <td>...</td>\n",
       "      <td>-0.005248</td>\n",
       "      <td>-0.000869</td>\n",
       "      <td>-0.007320</td>\n",
       "      <td>-0.006040</td>\n",
       "      <td>-0.033821</td>\n",
       "      <td>NaN</td>\n",
       "      <td>NaN</td>\n",
       "      <td>NaN</td>\n",
       "      <td>0.827418</td>\n",
       "      <td>NaN</td>\n",
       "    </tr>\n",
       "    <tr>\n",
       "      <th>revol_bal</th>\n",
       "      <td>0.003128</td>\n",
       "      <td>-0.000328</td>\n",
       "      <td>0.318975</td>\n",
       "      <td>0.310010</td>\n",
       "      <td>0.281609</td>\n",
       "      <td>0.314611</td>\n",
       "      <td>0.298646</td>\n",
       "      <td>0.224370</td>\n",
       "      <td>-0.055501</td>\n",
       "      <td>0.286500</td>\n",
       "      <td>...</td>\n",
       "      <td>0.235138</td>\n",
       "      <td>0.005005</td>\n",
       "      <td>0.045798</td>\n",
       "      <td>0.026391</td>\n",
       "      <td>0.116731</td>\n",
       "      <td>NaN</td>\n",
       "      <td>NaN</td>\n",
       "      <td>NaN</td>\n",
       "      <td>-0.044150</td>\n",
       "      <td>NaN</td>\n",
       "    </tr>\n",
       "    <tr>\n",
       "      <th>total_acc</th>\n",
       "      <td>0.061916</td>\n",
       "      <td>0.064174</td>\n",
       "      <td>0.258710</td>\n",
       "      <td>0.252380</td>\n",
       "      <td>0.241180</td>\n",
       "      <td>0.233511</td>\n",
       "      <td>0.255385</td>\n",
       "      <td>0.229738</td>\n",
       "      <td>0.062800</td>\n",
       "      <td>0.679905</td>\n",
       "      <td>...</td>\n",
       "      <td>0.146739</td>\n",
       "      <td>-0.027396</td>\n",
       "      <td>0.023460</td>\n",
       "      <td>0.011713</td>\n",
       "      <td>0.164469</td>\n",
       "      <td>NaN</td>\n",
       "      <td>NaN</td>\n",
       "      <td>NaN</td>\n",
       "      <td>-0.005156</td>\n",
       "      <td>NaN</td>\n",
       "    </tr>\n",
       "    <tr>\n",
       "      <th>out_prncp</th>\n",
       "      <td>0.193671</td>\n",
       "      <td>0.182296</td>\n",
       "      <td>0.193544</td>\n",
       "      <td>0.195936</td>\n",
       "      <td>0.206412</td>\n",
       "      <td>0.124738</td>\n",
       "      <td>0.038073</td>\n",
       "      <td>0.038274</td>\n",
       "      <td>-0.000401</td>\n",
       "      <td>0.028313</td>\n",
       "      <td>...</td>\n",
       "      <td>0.387669</td>\n",
       "      <td>-0.004578</td>\n",
       "      <td>-0.018699</td>\n",
       "      <td>-0.011632</td>\n",
       "      <td>-0.066081</td>\n",
       "      <td>NaN</td>\n",
       "      <td>NaN</td>\n",
       "      <td>NaN</td>\n",
       "      <td>-0.010696</td>\n",
       "      <td>NaN</td>\n",
       "    </tr>\n",
       "    <tr>\n",
       "      <th>out_prncp_inv</th>\n",
       "      <td>0.193618</td>\n",
       "      <td>0.182230</td>\n",
       "      <td>0.193072</td>\n",
       "      <td>0.195525</td>\n",
       "      <td>0.206421</td>\n",
       "      <td>0.124486</td>\n",
       "      <td>0.037916</td>\n",
       "      <td>0.038166</td>\n",
       "      <td>-0.000753</td>\n",
       "      <td>0.028052</td>\n",
       "      <td>...</td>\n",
       "      <td>0.387101</td>\n",
       "      <td>-0.004770</td>\n",
       "      <td>-0.018673</td>\n",
       "      <td>-0.011615</td>\n",
       "      <td>-0.065989</td>\n",
       "      <td>NaN</td>\n",
       "      <td>NaN</td>\n",
       "      <td>NaN</td>\n",
       "      <td>-0.011208</td>\n",
       "      <td>NaN</td>\n",
       "    </tr>\n",
       "    <tr>\n",
       "      <th>total_pymnt</th>\n",
       "      <td>0.178318</td>\n",
       "      <td>0.180412</td>\n",
       "      <td>0.877685</td>\n",
       "      <td>0.896834</td>\n",
       "      <td>0.864294</td>\n",
       "      <td>0.848466</td>\n",
       "      <td>0.265918</td>\n",
       "      <td>0.071506</td>\n",
       "      <td>-0.014320</td>\n",
       "      <td>0.149892</td>\n",
       "      <td>...</td>\n",
       "      <td>0.828809</td>\n",
       "      <td>0.009071</td>\n",
       "      <td>0.021313</td>\n",
       "      <td>0.023404</td>\n",
       "      <td>0.465064</td>\n",
       "      <td>NaN</td>\n",
       "      <td>NaN</td>\n",
       "      <td>NaN</td>\n",
       "      <td>-0.036891</td>\n",
       "      <td>NaN</td>\n",
       "    </tr>\n",
       "    <tr>\n",
       "      <th>total_pymnt_inv</th>\n",
       "      <td>0.281084</td>\n",
       "      <td>0.293045</td>\n",
       "      <td>0.833665</td>\n",
       "      <td>0.852200</td>\n",
       "      <td>0.911491</td>\n",
       "      <td>0.791818</td>\n",
       "      <td>0.249639</td>\n",
       "      <td>0.082140</td>\n",
       "      <td>-0.024421</td>\n",
       "      <td>0.136594</td>\n",
       "      <td>...</td>\n",
       "      <td>0.810267</td>\n",
       "      <td>-0.007922</td>\n",
       "      <td>0.014209</td>\n",
       "      <td>0.012572</td>\n",
       "      <td>0.449972</td>\n",
       "      <td>NaN</td>\n",
       "      <td>NaN</td>\n",
       "      <td>NaN</td>\n",
       "      <td>-0.038969</td>\n",
       "      <td>NaN</td>\n",
       "    </tr>\n",
       "    <tr>\n",
       "      <th>total_rec_prncp</th>\n",
       "      <td>0.145510</td>\n",
       "      <td>0.147829</td>\n",
       "      <td>0.841533</td>\n",
       "      <td>0.862161</td>\n",
       "      <td>0.826268</td>\n",
       "      <td>0.841755</td>\n",
       "      <td>0.265807</td>\n",
       "      <td>0.047379</td>\n",
       "      <td>-0.030885</td>\n",
       "      <td>0.147440</td>\n",
       "      <td>...</td>\n",
       "      <td>0.682289</td>\n",
       "      <td>-0.024294</td>\n",
       "      <td>-0.100055</td>\n",
       "      <td>-0.062629</td>\n",
       "      <td>0.533735</td>\n",
       "      <td>NaN</td>\n",
       "      <td>NaN</td>\n",
       "      <td>NaN</td>\n",
       "      <td>-0.047876</td>\n",
       "      <td>NaN</td>\n",
       "    </tr>\n",
       "    <tr>\n",
       "      <th>total_rec_int</th>\n",
       "      <td>0.212690</td>\n",
       "      <td>0.214147</td>\n",
       "      <td>0.725120</td>\n",
       "      <td>0.735357</td>\n",
       "      <td>0.724134</td>\n",
       "      <td>0.628368</td>\n",
       "      <td>0.193821</td>\n",
       "      <td>0.112924</td>\n",
       "      <td>0.031309</td>\n",
       "      <td>0.114793</td>\n",
       "      <td>...</td>\n",
       "      <td>1.000000</td>\n",
       "      <td>0.064010</td>\n",
       "      <td>0.077609</td>\n",
       "      <td>0.035199</td>\n",
       "      <td>0.186469</td>\n",
       "      <td>NaN</td>\n",
       "      <td>NaN</td>\n",
       "      <td>NaN</td>\n",
       "      <td>0.003094</td>\n",
       "      <td>NaN</td>\n",
       "    </tr>\n",
       "    <tr>\n",
       "      <th>total_rec_late_fee</th>\n",
       "      <td>-0.067123</td>\n",
       "      <td>-0.069040</td>\n",
       "      <td>0.042704</td>\n",
       "      <td>0.044754</td>\n",
       "      <td>0.019657</td>\n",
       "      <td>0.057875</td>\n",
       "      <td>0.003971</td>\n",
       "      <td>-0.014999</td>\n",
       "      <td>0.037425</td>\n",
       "      <td>-0.018382</td>\n",
       "      <td>...</td>\n",
       "      <td>0.064010</td>\n",
       "      <td>1.000000</td>\n",
       "      <td>0.112046</td>\n",
       "      <td>0.102196</td>\n",
       "      <td>-0.063302</td>\n",
       "      <td>NaN</td>\n",
       "      <td>NaN</td>\n",
       "      <td>NaN</td>\n",
       "      <td>-0.006117</td>\n",
       "      <td>NaN</td>\n",
       "    </tr>\n",
       "    <tr>\n",
       "      <th>recoveries</th>\n",
       "      <td>0.039939</td>\n",
       "      <td>0.038148</td>\n",
       "      <td>0.134618</td>\n",
       "      <td>0.135598</td>\n",
       "      <td>0.119376</td>\n",
       "      <td>0.117373</td>\n",
       "      <td>0.028469</td>\n",
       "      <td>0.022953</td>\n",
       "      <td>0.008707</td>\n",
       "      <td>0.019624</td>\n",
       "      <td>...</td>\n",
       "      <td>0.077609</td>\n",
       "      <td>0.112046</td>\n",
       "      <td>1.000000</td>\n",
       "      <td>0.807207</td>\n",
       "      <td>-0.073008</td>\n",
       "      <td>NaN</td>\n",
       "      <td>NaN</td>\n",
       "      <td>NaN</td>\n",
       "      <td>-0.005396</td>\n",
       "      <td>NaN</td>\n",
       "    </tr>\n",
       "    <tr>\n",
       "      <th>collection_recovery_fee</th>\n",
       "      <td>-0.012171</td>\n",
       "      <td>-0.013301</td>\n",
       "      <td>0.072550</td>\n",
       "      <td>0.074341</td>\n",
       "      <td>0.057609</td>\n",
       "      <td>0.077139</td>\n",
       "      <td>0.023410</td>\n",
       "      <td>0.005861</td>\n",
       "      <td>0.015373</td>\n",
       "      <td>0.009434</td>\n",
       "      <td>...</td>\n",
       "      <td>0.035199</td>\n",
       "      <td>0.102196</td>\n",
       "      <td>0.807207</td>\n",
       "      <td>1.000000</td>\n",
       "      <td>-0.045071</td>\n",
       "      <td>NaN</td>\n",
       "      <td>NaN</td>\n",
       "      <td>NaN</td>\n",
       "      <td>-0.006804</td>\n",
       "      <td>NaN</td>\n",
       "    </tr>\n",
       "    <tr>\n",
       "      <th>last_pymnt_amnt</th>\n",
       "      <td>0.157421</td>\n",
       "      <td>0.158874</td>\n",
       "      <td>0.437418</td>\n",
       "      <td>0.440716</td>\n",
       "      <td>0.427991</td>\n",
       "      <td>0.385157</td>\n",
       "      <td>0.136788</td>\n",
       "      <td>0.010401</td>\n",
       "      <td>-0.009016</td>\n",
       "      <td>0.072525</td>\n",
       "      <td>...</td>\n",
       "      <td>0.186469</td>\n",
       "      <td>-0.063302</td>\n",
       "      <td>-0.073008</td>\n",
       "      <td>-0.045071</td>\n",
       "      <td>1.000000</td>\n",
       "      <td>NaN</td>\n",
       "      <td>NaN</td>\n",
       "      <td>NaN</td>\n",
       "      <td>-0.019988</td>\n",
       "      <td>NaN</td>\n",
       "    </tr>\n",
       "    <tr>\n",
       "      <th>policy_code</th>\n",
       "      <td>NaN</td>\n",
       "      <td>NaN</td>\n",
       "      <td>NaN</td>\n",
       "      <td>NaN</td>\n",
       "      <td>NaN</td>\n",
       "      <td>NaN</td>\n",
       "      <td>NaN</td>\n",
       "      <td>NaN</td>\n",
       "      <td>NaN</td>\n",
       "      <td>NaN</td>\n",
       "      <td>...</td>\n",
       "      <td>NaN</td>\n",
       "      <td>NaN</td>\n",
       "      <td>NaN</td>\n",
       "      <td>NaN</td>\n",
       "      <td>NaN</td>\n",
       "      <td>NaN</td>\n",
       "      <td>NaN</td>\n",
       "      <td>NaN</td>\n",
       "      <td>NaN</td>\n",
       "      <td>NaN</td>\n",
       "    </tr>\n",
       "    <tr>\n",
       "      <th>acc_now_delinq</th>\n",
       "      <td>NaN</td>\n",
       "      <td>NaN</td>\n",
       "      <td>NaN</td>\n",
       "      <td>NaN</td>\n",
       "      <td>NaN</td>\n",
       "      <td>NaN</td>\n",
       "      <td>NaN</td>\n",
       "      <td>NaN</td>\n",
       "      <td>NaN</td>\n",
       "      <td>NaN</td>\n",
       "      <td>...</td>\n",
       "      <td>NaN</td>\n",
       "      <td>NaN</td>\n",
       "      <td>NaN</td>\n",
       "      <td>NaN</td>\n",
       "      <td>NaN</td>\n",
       "      <td>NaN</td>\n",
       "      <td>NaN</td>\n",
       "      <td>NaN</td>\n",
       "      <td>NaN</td>\n",
       "      <td>NaN</td>\n",
       "    </tr>\n",
       "    <tr>\n",
       "      <th>delinq_amnt</th>\n",
       "      <td>NaN</td>\n",
       "      <td>NaN</td>\n",
       "      <td>NaN</td>\n",
       "      <td>NaN</td>\n",
       "      <td>NaN</td>\n",
       "      <td>NaN</td>\n",
       "      <td>NaN</td>\n",
       "      <td>NaN</td>\n",
       "      <td>NaN</td>\n",
       "      <td>NaN</td>\n",
       "      <td>...</td>\n",
       "      <td>NaN</td>\n",
       "      <td>NaN</td>\n",
       "      <td>NaN</td>\n",
       "      <td>NaN</td>\n",
       "      <td>NaN</td>\n",
       "      <td>NaN</td>\n",
       "      <td>NaN</td>\n",
       "      <td>NaN</td>\n",
       "      <td>NaN</td>\n",
       "      <td>NaN</td>\n",
       "    </tr>\n",
       "    <tr>\n",
       "      <th>pub_rec_bankruptcies</th>\n",
       "      <td>0.002279</td>\n",
       "      <td>0.002715</td>\n",
       "      <td>-0.029922</td>\n",
       "      <td>-0.031508</td>\n",
       "      <td>-0.034390</td>\n",
       "      <td>-0.028320</td>\n",
       "      <td>-0.012549</td>\n",
       "      <td>0.001316</td>\n",
       "      <td>0.003815</td>\n",
       "      <td>0.009923</td>\n",
       "      <td>...</td>\n",
       "      <td>0.003094</td>\n",
       "      <td>-0.006117</td>\n",
       "      <td>-0.005396</td>\n",
       "      <td>-0.006804</td>\n",
       "      <td>-0.019988</td>\n",
       "      <td>NaN</td>\n",
       "      <td>NaN</td>\n",
       "      <td>NaN</td>\n",
       "      <td>1.000000</td>\n",
       "      <td>NaN</td>\n",
       "    </tr>\n",
       "    <tr>\n",
       "      <th>tax_liens</th>\n",
       "      <td>NaN</td>\n",
       "      <td>NaN</td>\n",
       "      <td>NaN</td>\n",
       "      <td>NaN</td>\n",
       "      <td>NaN</td>\n",
       "      <td>NaN</td>\n",
       "      <td>NaN</td>\n",
       "      <td>NaN</td>\n",
       "      <td>NaN</td>\n",
       "      <td>NaN</td>\n",
       "      <td>...</td>\n",
       "      <td>NaN</td>\n",
       "      <td>NaN</td>\n",
       "      <td>NaN</td>\n",
       "      <td>NaN</td>\n",
       "      <td>NaN</td>\n",
       "      <td>NaN</td>\n",
       "      <td>NaN</td>\n",
       "      <td>NaN</td>\n",
       "      <td>NaN</td>\n",
       "      <td>NaN</td>\n",
       "    </tr>\n",
       "  </tbody>\n",
       "</table>\n",
       "<p>28 rows × 28 columns</p>\n",
       "</div>"
      ],
      "text/plain": [
       "                               id  member_id  loan_amnt  funded_amnt  \\\n",
       "id                       1.000000   0.993207   0.184529     0.193145   \n",
       "member_id                0.993207   1.000000   0.185373     0.193236   \n",
       "loan_amnt                0.184529   0.185373   1.000000     0.978639   \n",
       "funded_amnt              0.193145   0.193236   0.978639     1.000000   \n",
       "funded_amnt_inv          0.317277   0.329312   0.920073     0.940629   \n",
       "installment              0.104042   0.100886   0.924054     0.953626   \n",
       "annual_inc               0.021406   0.022307   0.284073     0.276885   \n",
       "dti                      0.108830   0.110671   0.075659     0.075811   \n",
       "delinq_2yrs             -0.012797  -0.013267  -0.029061    -0.029938   \n",
       "open_acc                 0.026780   0.024352   0.171066     0.169249   \n",
       "pub_rec                 -0.016525  -0.016494  -0.052099    -0.052513   \n",
       "revol_bal                0.003128  -0.000328   0.318975     0.310010   \n",
       "total_acc                0.061916   0.064174   0.258710     0.252380   \n",
       "out_prncp                0.193671   0.182296   0.193544     0.195936   \n",
       "out_prncp_inv            0.193618   0.182230   0.193072     0.195525   \n",
       "total_pymnt              0.178318   0.180412   0.877685     0.896834   \n",
       "total_pymnt_inv          0.281084   0.293045   0.833665     0.852200   \n",
       "total_rec_prncp          0.145510   0.147829   0.841533     0.862161   \n",
       "total_rec_int            0.212690   0.214147   0.725120     0.735357   \n",
       "total_rec_late_fee      -0.067123  -0.069040   0.042704     0.044754   \n",
       "recoveries               0.039939   0.038148   0.134618     0.135598   \n",
       "collection_recovery_fee -0.012171  -0.013301   0.072550     0.074341   \n",
       "last_pymnt_amnt          0.157421   0.158874   0.437418     0.440716   \n",
       "policy_code                   NaN        NaN        NaN          NaN   \n",
       "acc_now_delinq                NaN        NaN        NaN          NaN   \n",
       "delinq_amnt                   NaN        NaN        NaN          NaN   \n",
       "pub_rec_bankruptcies     0.002279   0.002715  -0.029922    -0.031508   \n",
       "tax_liens                     NaN        NaN        NaN          NaN   \n",
       "\n",
       "                         funded_amnt_inv  installment  annual_inc       dti  \\\n",
       "id                              0.317277     0.104042    0.021406  0.108830   \n",
       "member_id                       0.329312     0.100886    0.022307  0.110671   \n",
       "loan_amnt                       0.920073     0.924054    0.284073  0.075659   \n",
       "funded_amnt                     0.940629     0.953626    0.276885  0.075811   \n",
       "funded_amnt_inv                 1.000000     0.878626    0.257126  0.088432   \n",
       "installment                     0.878626     1.000000    0.279420  0.061567   \n",
       "annual_inc                      0.257126     0.279420    1.000000 -0.133408   \n",
       "dti                             0.088432     0.061567   -0.133408  1.000000   \n",
       "delinq_2yrs                    -0.039646    -0.017266    0.027504 -0.039418   \n",
       "open_acc                        0.151346     0.167626    0.173688  0.282220   \n",
       "pub_rec                        -0.055778    -0.047136   -0.016968 -0.007825   \n",
       "revol_bal                       0.281609     0.314611    0.298646  0.224370   \n",
       "total_acc                       0.241180     0.233511    0.255385  0.229738   \n",
       "out_prncp                       0.206412     0.124738    0.038073  0.038274   \n",
       "out_prncp_inv                   0.206421     0.124486    0.037916  0.038166   \n",
       "total_pymnt                     0.864294     0.848466    0.265918  0.071506   \n",
       "total_pymnt_inv                 0.911491     0.791818    0.249639  0.082140   \n",
       "total_rec_prncp                 0.826268     0.841755    0.265807  0.047379   \n",
       "total_rec_int                   0.724134     0.628368    0.193821  0.112924   \n",
       "total_rec_late_fee              0.019657     0.057875    0.003971 -0.014999   \n",
       "recoveries                      0.119376     0.117373    0.028469  0.022953   \n",
       "collection_recovery_fee         0.057609     0.077139    0.023410  0.005861   \n",
       "last_pymnt_amnt                 0.427991     0.385157    0.136788  0.010401   \n",
       "policy_code                          NaN          NaN         NaN       NaN   \n",
       "acc_now_delinq                       NaN          NaN         NaN       NaN   \n",
       "delinq_amnt                          NaN          NaN         NaN       NaN   \n",
       "pub_rec_bankruptcies           -0.034390    -0.028320   -0.012549  0.001316   \n",
       "tax_liens                            NaN          NaN         NaN       NaN   \n",
       "\n",
       "                         delinq_2yrs  open_acc    ...      total_rec_int  \\\n",
       "id                         -0.012797  0.026780    ...           0.212690   \n",
       "member_id                  -0.013267  0.024352    ...           0.214147   \n",
       "loan_amnt                  -0.029061  0.171066    ...           0.725120   \n",
       "funded_amnt                -0.029938  0.169249    ...           0.735357   \n",
       "funded_amnt_inv            -0.039646  0.151346    ...           0.724134   \n",
       "installment                -0.017266  0.167626    ...           0.628368   \n",
       "annual_inc                  0.027504  0.173688    ...           0.193821   \n",
       "dti                        -0.039418  0.282220    ...           0.112924   \n",
       "delinq_2yrs                 1.000000  0.012625    ...           0.031309   \n",
       "open_acc                    0.012625  1.000000    ...           0.114793   \n",
       "pub_rec                     0.013822  0.002931    ...          -0.005248   \n",
       "revol_bal                  -0.055501  0.286500    ...           0.235138   \n",
       "total_acc                   0.062800  0.679905    ...           0.146739   \n",
       "out_prncp                  -0.000401  0.028313    ...           0.387669   \n",
       "out_prncp_inv              -0.000753  0.028052    ...           0.387101   \n",
       "total_pymnt                -0.014320  0.149892    ...           0.828809   \n",
       "total_pymnt_inv            -0.024421  0.136594    ...           0.810267   \n",
       "total_rec_prncp            -0.030885  0.147440    ...           0.682289   \n",
       "total_rec_int               0.031309  0.114793    ...           1.000000   \n",
       "total_rec_late_fee          0.037425 -0.018382    ...           0.064010   \n",
       "recoveries                  0.008707  0.019624    ...           0.077609   \n",
       "collection_recovery_fee     0.015373  0.009434    ...           0.035199   \n",
       "last_pymnt_amnt            -0.009016  0.072525    ...           0.186469   \n",
       "policy_code                      NaN       NaN    ...                NaN   \n",
       "acc_now_delinq                   NaN       NaN    ...                NaN   \n",
       "delinq_amnt                      NaN       NaN    ...                NaN   \n",
       "pub_rec_bankruptcies        0.003815  0.009923    ...           0.003094   \n",
       "tax_liens                        NaN       NaN    ...                NaN   \n",
       "\n",
       "                         total_rec_late_fee  recoveries  \\\n",
       "id                                -0.067123    0.039939   \n",
       "member_id                         -0.069040    0.038148   \n",
       "loan_amnt                          0.042704    0.134618   \n",
       "funded_amnt                        0.044754    0.135598   \n",
       "funded_amnt_inv                    0.019657    0.119376   \n",
       "installment                        0.057875    0.117373   \n",
       "annual_inc                         0.003971    0.028469   \n",
       "dti                               -0.014999    0.022953   \n",
       "delinq_2yrs                        0.037425    0.008707   \n",
       "open_acc                          -0.018382    0.019624   \n",
       "pub_rec                           -0.000869   -0.007320   \n",
       "revol_bal                          0.005005    0.045798   \n",
       "total_acc                         -0.027396    0.023460   \n",
       "out_prncp                         -0.004578   -0.018699   \n",
       "out_prncp_inv                     -0.004770   -0.018673   \n",
       "total_pymnt                        0.009071    0.021313   \n",
       "total_pymnt_inv                   -0.007922    0.014209   \n",
       "total_rec_prncp                   -0.024294   -0.100055   \n",
       "total_rec_int                      0.064010    0.077609   \n",
       "total_rec_late_fee                 1.000000    0.112046   \n",
       "recoveries                         0.112046    1.000000   \n",
       "collection_recovery_fee            0.102196    0.807207   \n",
       "last_pymnt_amnt                   -0.063302   -0.073008   \n",
       "policy_code                             NaN         NaN   \n",
       "acc_now_delinq                          NaN         NaN   \n",
       "delinq_amnt                             NaN         NaN   \n",
       "pub_rec_bankruptcies              -0.006117   -0.005396   \n",
       "tax_liens                               NaN         NaN   \n",
       "\n",
       "                         collection_recovery_fee  last_pymnt_amnt  \\\n",
       "id                                     -0.012171         0.157421   \n",
       "member_id                              -0.013301         0.158874   \n",
       "loan_amnt                               0.072550         0.437418   \n",
       "funded_amnt                             0.074341         0.440716   \n",
       "funded_amnt_inv                         0.057609         0.427991   \n",
       "installment                             0.077139         0.385157   \n",
       "annual_inc                              0.023410         0.136788   \n",
       "dti                                     0.005861         0.010401   \n",
       "delinq_2yrs                             0.015373        -0.009016   \n",
       "open_acc                                0.009434         0.072525   \n",
       "pub_rec                                -0.006040        -0.033821   \n",
       "revol_bal                               0.026391         0.116731   \n",
       "total_acc                               0.011713         0.164469   \n",
       "out_prncp                              -0.011632        -0.066081   \n",
       "out_prncp_inv                          -0.011615        -0.065989   \n",
       "total_pymnt                             0.023404         0.465064   \n",
       "total_pymnt_inv                         0.012572         0.449972   \n",
       "total_rec_prncp                        -0.062629         0.533735   \n",
       "total_rec_int                           0.035199         0.186469   \n",
       "total_rec_late_fee                      0.102196        -0.063302   \n",
       "recoveries                              0.807207        -0.073008   \n",
       "collection_recovery_fee                 1.000000        -0.045071   \n",
       "last_pymnt_amnt                        -0.045071         1.000000   \n",
       "policy_code                                  NaN              NaN   \n",
       "acc_now_delinq                               NaN              NaN   \n",
       "delinq_amnt                                  NaN              NaN   \n",
       "pub_rec_bankruptcies                   -0.006804        -0.019988   \n",
       "tax_liens                                    NaN              NaN   \n",
       "\n",
       "                         policy_code  acc_now_delinq  delinq_amnt  \\\n",
       "id                               NaN             NaN          NaN   \n",
       "member_id                        NaN             NaN          NaN   \n",
       "loan_amnt                        NaN             NaN          NaN   \n",
       "funded_amnt                      NaN             NaN          NaN   \n",
       "funded_amnt_inv                  NaN             NaN          NaN   \n",
       "installment                      NaN             NaN          NaN   \n",
       "annual_inc                       NaN             NaN          NaN   \n",
       "dti                              NaN             NaN          NaN   \n",
       "delinq_2yrs                      NaN             NaN          NaN   \n",
       "open_acc                         NaN             NaN          NaN   \n",
       "pub_rec                          NaN             NaN          NaN   \n",
       "revol_bal                        NaN             NaN          NaN   \n",
       "total_acc                        NaN             NaN          NaN   \n",
       "out_prncp                        NaN             NaN          NaN   \n",
       "out_prncp_inv                    NaN             NaN          NaN   \n",
       "total_pymnt                      NaN             NaN          NaN   \n",
       "total_pymnt_inv                  NaN             NaN          NaN   \n",
       "total_rec_prncp                  NaN             NaN          NaN   \n",
       "total_rec_int                    NaN             NaN          NaN   \n",
       "total_rec_late_fee               NaN             NaN          NaN   \n",
       "recoveries                       NaN             NaN          NaN   \n",
       "collection_recovery_fee          NaN             NaN          NaN   \n",
       "last_pymnt_amnt                  NaN             NaN          NaN   \n",
       "policy_code                      NaN             NaN          NaN   \n",
       "acc_now_delinq                   NaN             NaN          NaN   \n",
       "delinq_amnt                      NaN             NaN          NaN   \n",
       "pub_rec_bankruptcies             NaN             NaN          NaN   \n",
       "tax_liens                        NaN             NaN          NaN   \n",
       "\n",
       "                         pub_rec_bankruptcies  tax_liens  \n",
       "id                                   0.002279        NaN  \n",
       "member_id                            0.002715        NaN  \n",
       "loan_amnt                           -0.029922        NaN  \n",
       "funded_amnt                         -0.031508        NaN  \n",
       "funded_amnt_inv                     -0.034390        NaN  \n",
       "installment                         -0.028320        NaN  \n",
       "annual_inc                          -0.012549        NaN  \n",
       "dti                                  0.001316        NaN  \n",
       "delinq_2yrs                          0.003815        NaN  \n",
       "open_acc                             0.009923        NaN  \n",
       "pub_rec                              0.827418        NaN  \n",
       "revol_bal                           -0.044150        NaN  \n",
       "total_acc                           -0.005156        NaN  \n",
       "out_prncp                           -0.010696        NaN  \n",
       "out_prncp_inv                       -0.011208        NaN  \n",
       "total_pymnt                         -0.036891        NaN  \n",
       "total_pymnt_inv                     -0.038969        NaN  \n",
       "total_rec_prncp                     -0.047876        NaN  \n",
       "total_rec_int                        0.003094        NaN  \n",
       "total_rec_late_fee                  -0.006117        NaN  \n",
       "recoveries                          -0.005396        NaN  \n",
       "collection_recovery_fee             -0.006804        NaN  \n",
       "last_pymnt_amnt                     -0.019988        NaN  \n",
       "policy_code                               NaN        NaN  \n",
       "acc_now_delinq                            NaN        NaN  \n",
       "delinq_amnt                               NaN        NaN  \n",
       "pub_rec_bankruptcies                 1.000000        NaN  \n",
       "tax_liens                                 NaN        NaN  \n",
       "\n",
       "[28 rows x 28 columns]"
      ]
     },
     "execution_count": 235,
     "metadata": {},
     "output_type": "execute_result"
    }
   ],
   "source": [
    "data.corr()"
   ]
  },
  {
   "cell_type": "code",
   "execution_count": 236,
   "metadata": {},
   "outputs": [
    {
     "data": {
      "text/html": [
       "<div>\n",
       "<style scoped>\n",
       "    .dataframe tbody tr th:only-of-type {\n",
       "        vertical-align: middle;\n",
       "    }\n",
       "\n",
       "    .dataframe tbody tr th {\n",
       "        vertical-align: top;\n",
       "    }\n",
       "\n",
       "    .dataframe thead th {\n",
       "        text-align: right;\n",
       "    }\n",
       "</style>\n",
       "<table border=\"1\" class=\"dataframe\">\n",
       "  <thead>\n",
       "    <tr style=\"text-align: right;\">\n",
       "      <th></th>\n",
       "      <th>id</th>\n",
       "      <th>member_id</th>\n",
       "      <th>loan_amnt</th>\n",
       "      <th>funded_amnt</th>\n",
       "      <th>funded_amnt_inv</th>\n",
       "      <th>term</th>\n",
       "      <th>int_rate</th>\n",
       "      <th>installment</th>\n",
       "      <th>grade</th>\n",
       "      <th>sub_grade</th>\n",
       "      <th>...</th>\n",
       "      <th>total_rec_late_fee</th>\n",
       "      <th>recoveries</th>\n",
       "      <th>collection_recovery_fee</th>\n",
       "      <th>last_pymnt_amnt</th>\n",
       "      <th>policy_code</th>\n",
       "      <th>application_type</th>\n",
       "      <th>acc_now_delinq</th>\n",
       "      <th>delinq_amnt</th>\n",
       "      <th>pub_rec_bankruptcies</th>\n",
       "      <th>tax_liens</th>\n",
       "    </tr>\n",
       "  </thead>\n",
       "  <tbody>\n",
       "    <tr>\n",
       "      <th>1</th>\n",
       "      <td>1077430</td>\n",
       "      <td>1314167</td>\n",
       "      <td>2500</td>\n",
       "      <td>2500</td>\n",
       "      <td>2500.0</td>\n",
       "      <td>60 months</td>\n",
       "      <td>15.27%</td>\n",
       "      <td>59.83</td>\n",
       "      <td>2</td>\n",
       "      <td>C4</td>\n",
       "      <td>...</td>\n",
       "      <td>0.00</td>\n",
       "      <td>117.08</td>\n",
       "      <td>1.11</td>\n",
       "      <td>119.66</td>\n",
       "      <td>1</td>\n",
       "      <td>INDIVIDUAL</td>\n",
       "      <td>0</td>\n",
       "      <td>0</td>\n",
       "      <td>0.0</td>\n",
       "      <td>0.0</td>\n",
       "    </tr>\n",
       "    <tr>\n",
       "      <th>3</th>\n",
       "      <td>1076863</td>\n",
       "      <td>1277178</td>\n",
       "      <td>10000</td>\n",
       "      <td>10000</td>\n",
       "      <td>10000.0</td>\n",
       "      <td>36 months</td>\n",
       "      <td>13.49%</td>\n",
       "      <td>339.31</td>\n",
       "      <td>2</td>\n",
       "      <td>C1</td>\n",
       "      <td>...</td>\n",
       "      <td>16.97</td>\n",
       "      <td>0.00</td>\n",
       "      <td>0.00</td>\n",
       "      <td>357.48</td>\n",
       "      <td>1</td>\n",
       "      <td>INDIVIDUAL</td>\n",
       "      <td>0</td>\n",
       "      <td>0</td>\n",
       "      <td>0.0</td>\n",
       "      <td>0.0</td>\n",
       "    </tr>\n",
       "    <tr>\n",
       "      <th>4</th>\n",
       "      <td>1075358</td>\n",
       "      <td>1311748</td>\n",
       "      <td>3000</td>\n",
       "      <td>3000</td>\n",
       "      <td>3000.0</td>\n",
       "      <td>60 months</td>\n",
       "      <td>12.69%</td>\n",
       "      <td>67.79</td>\n",
       "      <td>1</td>\n",
       "      <td>B5</td>\n",
       "      <td>...</td>\n",
       "      <td>0.00</td>\n",
       "      <td>0.00</td>\n",
       "      <td>0.00</td>\n",
       "      <td>67.79</td>\n",
       "      <td>1</td>\n",
       "      <td>INDIVIDUAL</td>\n",
       "      <td>0</td>\n",
       "      <td>0</td>\n",
       "      <td>0.0</td>\n",
       "      <td>0.0</td>\n",
       "    </tr>\n",
       "    <tr>\n",
       "      <th>6</th>\n",
       "      <td>1069639</td>\n",
       "      <td>1304742</td>\n",
       "      <td>7000</td>\n",
       "      <td>7000</td>\n",
       "      <td>7000.0</td>\n",
       "      <td>60 months</td>\n",
       "      <td>15.96%</td>\n",
       "      <td>170.08</td>\n",
       "      <td>2</td>\n",
       "      <td>C5</td>\n",
       "      <td>...</td>\n",
       "      <td>0.00</td>\n",
       "      <td>0.00</td>\n",
       "      <td>0.00</td>\n",
       "      <td>1313.76</td>\n",
       "      <td>1</td>\n",
       "      <td>INDIVIDUAL</td>\n",
       "      <td>0</td>\n",
       "      <td>0</td>\n",
       "      <td>0.0</td>\n",
       "      <td>0.0</td>\n",
       "    </tr>\n",
       "    <tr>\n",
       "      <th>7</th>\n",
       "      <td>1072053</td>\n",
       "      <td>1288686</td>\n",
       "      <td>3000</td>\n",
       "      <td>3000</td>\n",
       "      <td>3000.0</td>\n",
       "      <td>36 months</td>\n",
       "      <td>18.64%</td>\n",
       "      <td>109.43</td>\n",
       "      <td>4</td>\n",
       "      <td>E1</td>\n",
       "      <td>...</td>\n",
       "      <td>0.00</td>\n",
       "      <td>0.00</td>\n",
       "      <td>0.00</td>\n",
       "      <td>111.34</td>\n",
       "      <td>1</td>\n",
       "      <td>INDIVIDUAL</td>\n",
       "      <td>0</td>\n",
       "      <td>0</td>\n",
       "      <td>0.0</td>\n",
       "      <td>0.0</td>\n",
       "    </tr>\n",
       "  </tbody>\n",
       "</table>\n",
       "<p>5 rows × 48 columns</p>\n",
       "</div>"
      ],
      "text/plain": [
       "        id  member_id  loan_amnt  funded_amnt  funded_amnt_inv        term  \\\n",
       "1  1077430    1314167       2500         2500           2500.0   60 months   \n",
       "3  1076863    1277178      10000        10000          10000.0   36 months   \n",
       "4  1075358    1311748       3000         3000           3000.0   60 months   \n",
       "6  1069639    1304742       7000         7000           7000.0   60 months   \n",
       "7  1072053    1288686       3000         3000           3000.0   36 months   \n",
       "\n",
       "  int_rate  installment grade sub_grade    ...    total_rec_late_fee  \\\n",
       "1   15.27%        59.83     2        C4    ...                  0.00   \n",
       "3   13.49%       339.31     2        C1    ...                 16.97   \n",
       "4   12.69%        67.79     1        B5    ...                  0.00   \n",
       "6   15.96%       170.08     2        C5    ...                  0.00   \n",
       "7   18.64%       109.43     4        E1    ...                  0.00   \n",
       "\n",
       "  recoveries collection_recovery_fee  last_pymnt_amnt policy_code  \\\n",
       "1     117.08                    1.11           119.66           1   \n",
       "3       0.00                    0.00           357.48           1   \n",
       "4       0.00                    0.00            67.79           1   \n",
       "6       0.00                    0.00          1313.76           1   \n",
       "7       0.00                    0.00           111.34           1   \n",
       "\n",
       "  application_type acc_now_delinq delinq_amnt pub_rec_bankruptcies tax_liens  \n",
       "1       INDIVIDUAL              0           0                  0.0       0.0  \n",
       "3       INDIVIDUAL              0           0                  0.0       0.0  \n",
       "4       INDIVIDUAL              0           0                  0.0       0.0  \n",
       "6       INDIVIDUAL              0           0                  0.0       0.0  \n",
       "7       INDIVIDUAL              0           0                  0.0       0.0  \n",
       "\n",
       "[5 rows x 48 columns]"
      ]
     },
     "execution_count": 236,
     "metadata": {},
     "output_type": "execute_result"
    }
   ],
   "source": [
    "data.head()\n"
   ]
  },
  {
   "cell_type": "code",
   "execution_count": 237,
   "metadata": {},
   "outputs": [],
   "source": [
    "from sklearn.naive_bayes import GaussianNB"
   ]
  },
  {
   "cell_type": "code",
   "execution_count": 239,
   "metadata": {},
   "outputs": [],
   "source": [
    "model6 =GaussianNB()\n",
    "X_features_new=data[[ 'grade', 'home_ownership', 'verification_status','pymnt_plan','loan_amnt', 'funded_amnt', 'funded_amnt_inv', 'installment', 'annual_inc', 'dti', 'delinq_2yrs', 'open_acc', 'pub_rec', 'revol_bal', 'total_acc', 'out_prncp', 'out_prncp_inv', 'total_pymnt', 'total_pymnt_inv', 'total_rec_prncp', 'total_rec_int', 'total_rec_late_fee', 'recoveries', 'collection_recovery_fee', 'last_pymnt_amnt',  'policy_code', 'acc_now_delinq', 'delinq_amnt', 'pub_rec_bankruptcies', 'tax_liens']].values\n",
    "Y_new_target=data['loan_status'].values\n",
    "X_train , X_test , Y_train ,Y_test =model_selection.train_test_split(X_features_new,Y_new_target,test_size = 0.2,random_state=42)"
   ]
  },
  {
   "cell_type": "code",
   "execution_count": 240,
   "metadata": {},
   "outputs": [
    {
     "data": {
      "text/plain": [
       "GaussianNB(priors=None)"
      ]
     },
     "execution_count": 240,
     "metadata": {},
     "output_type": "execute_result"
    }
   ],
   "source": [
    "model6.fit(X_train,Y_train)\n"
   ]
  },
  {
   "cell_type": "code",
   "execution_count": 241,
   "metadata": {},
   "outputs": [],
   "source": [
    "Y_predictions3 = model6.predict(X_test)"
   ]
  },
  {
   "cell_type": "code",
   "execution_count": 242,
   "metadata": {},
   "outputs": [
    {
     "name": "stdout",
     "output_type": "stream",
     "text": [
      "['Fully Paid' 'Fully Paid' 'Fully Paid' ... 'Fully Paid' 'Fully Paid'\n",
      " 'Fully Paid']\n"
     ]
    }
   ],
   "source": [
    "print(Y_predictions3)"
   ]
  },
  {
   "cell_type": "code",
   "execution_count": 243,
   "metadata": {},
   "outputs": [],
   "source": [
    "m_acc = metrics.accuracy_score(Y_test,Y_predictions3)"
   ]
  },
  {
   "cell_type": "code",
   "execution_count": 244,
   "metadata": {},
   "outputs": [
    {
     "name": "stdout",
     "output_type": "stream",
     "text": [
      "0.9571002979145978\n"
     ]
    }
   ],
   "source": [
    "print(m_acc)"
   ]
  },
  {
   "cell_type": "code",
   "execution_count": 246,
   "metadata": {},
   "outputs": [],
   "source": [
    "y_prob=forest.predict_proba(X=X_test)"
   ]
  },
  {
   "cell_type": "code",
   "execution_count": 247,
   "metadata": {},
   "outputs": [
    {
     "name": "stdout",
     "output_type": "stream",
     "text": [
      "[[1.19648406e-02 3.67610666e-04 9.87667549e-01]\n",
      " [5.22095493e-03 0.00000000e+00 9.94779045e-01]\n",
      " [4.62062194e-03 2.06593422e-04 9.95172785e-01]\n",
      " ...\n",
      " [3.48826095e-03 2.49172497e-04 9.96262567e-01]\n",
      " [8.39151773e-03 0.00000000e+00 9.91608482e-01]\n",
      " [1.17292399e-02 3.24932017e-04 9.87945828e-01]]\n"
     ]
    }
   ],
   "source": [
    "print(y_prob)"
   ]
  },
  {
   "cell_type": "code",
   "execution_count": null,
   "metadata": {},
   "outputs": [],
   "source": []
  },
  {
   "cell_type": "code",
   "execution_count": null,
   "metadata": {},
   "outputs": [],
   "source": []
  },
  {
   "cell_type": "code",
   "execution_count": null,
   "metadata": {},
   "outputs": [],
   "source": []
  }
 ],
 "metadata": {
  "kernelspec": {
   "display_name": "Python 3",
   "language": "python",
   "name": "python3"
  },
  "language_info": {
   "codemirror_mode": {
    "name": "ipython",
    "version": 3
   },
   "file_extension": ".py",
   "mimetype": "text/x-python",
   "name": "python",
   "nbconvert_exporter": "python",
   "pygments_lexer": "ipython3",
   "version": "3.6.5"
  }
 },
 "nbformat": 4,
 "nbformat_minor": 2
}
